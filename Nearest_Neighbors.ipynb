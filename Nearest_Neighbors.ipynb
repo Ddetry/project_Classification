{
 "cells": [
  {
   "cell_type": "code",
   "execution_count": 2,
   "metadata": {
    "collapsed": false
   },
   "outputs": [
    {
     "name": "stderr",
     "output_type": "stream",
     "text": [
      "/Users/damien/anaconda/lib/python3.5/site-packages/sklearn/cross_validation.py:44: DeprecationWarning: This module was deprecated in version 0.18 in favor of the model_selection module into which all the refactored classes and functions are moved. Also note that the interface of the new CV iterators are different from that of this module. This module will be removed in 0.20.\n",
      "  \"This module will be removed in 0.20.\", DeprecationWarning)\n"
     ]
    },
    {
     "name": "stdout",
     "output_type": "stream",
     "text": [
      "with the entire database\n",
      "0.936708860759\n",
      "test avec une valeur random\n",
      "[0]\n"
     ]
    }
   ],
   "source": [
    "import numpy as np\n",
    "from sklearn import preprocessing, cross_validation, neighbors\n",
    "import pandas as pd\n",
    "path = '/Users/damien/Documents/Sinf/2eme_bis/2eme_quadri/QDA/project_Classification/Select2.csv'\n",
    "db = pd.read_csv(path, sep=';')\n",
    "\n",
    "X = np.array(db.drop(['Passed'],1))\n",
    "Y = np.array(db['Passed'])\n",
    "\n",
    "#separate the data to create train set and test set\n",
    "X_train, X_test, Y_train, Y_test = cross_validation.train_test_split(X,Y,test_size = 0.2)\n",
    "clf = neighbors.KNeighborsClassifier()\n",
    "clf.fit(X_train,Y_train) \n",
    "\n",
    "accuracy = clf.score(X_test, Y_test)\n",
    "print('with the entire database')\n",
    "print(accuracy)\n",
    "\n",
    "print('test avec une valeur random')\n",
    "example_measure = np.array([0,0,0,0,0,0,0,0,0,0,0,0,0,0,0,0,0,0,0,0,0,0,0,0,0,0,0,0,0,0,0,0,0])\n",
    "example_measure = example_measure.reshape(1,-1)\n",
    "\n",
    "prediction = clf.predict(example_measure)\n",
    "print(prediction)"
   ]
  },
  {
   "cell_type": "code",
   "execution_count": 3,
   "metadata": {
    "collapsed": false
   },
   "outputs": [
    {
     "name": "stdout",
     "output_type": "stream",
     "text": [
      "with the select database\n",
      "0.670886075949\n",
      "test avec une valeur random\n",
      "['pass']\n"
     ]
    }
   ],
   "source": [
    "import numpy as np\n",
    "from sklearn import preprocessing, cross_validation, neighbors\n",
    "import pandas as pd\n",
    "path = '/Users/damien/Documents/Sinf/2eme_bis/2eme_quadri/QDA/project_Classification/Select.csv'\n",
    "db = pd.read_csv(path, sep=';')\n",
    "\n",
    "X = np.array(db.drop(['Passed'],1))\n",
    "Y = np.array(db['Passed'])\n",
    "\n",
    "#separate the data to create train set and test set\n",
    "X_train, X_test, Y_train, Y_test = cross_validation.train_test_split(X,Y,test_size = 0.2)\n",
    "clf = neighbors.KNeighborsClassifier()\n",
    "clf.fit(X_train,Y_train) \n",
    "\n",
    "accuracy = clf.score(X_test, Y_test)\n",
    "print('with the select database')\n",
    "print(accuracy)\n",
    "\n",
    "print('test avec une valeur random')\n",
    "example_measure = np.array([1,1,1,1,1,1,1,15])\n",
    "example_measure = example_measure.reshape(1,-1)\n",
    "\n",
    "prediction = clf.predict(example_measure)\n",
    "print(prediction)"
   ]
  }
 ],
 "metadata": {
  "kernelspec": {
   "display_name": "Python [default]",
   "language": "python",
   "name": "python3"
  },
  "language_info": {
   "codemirror_mode": {
    "name": "ipython",
    "version": 3
   },
   "file_extension": ".py",
   "mimetype": "text/x-python",
   "name": "python",
   "nbconvert_exporter": "python",
   "pygments_lexer": "ipython3",
   "version": "3.5.2"
  }
 },
 "nbformat": 4,
 "nbformat_minor": 2
}
