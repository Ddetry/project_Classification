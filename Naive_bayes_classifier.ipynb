{
 "cells": [
  {
   "cell_type": "code",
   "execution_count": 31,
   "metadata": {
    "collapsed": false
   },
   "outputs": [
    {
     "name": "stderr",
     "output_type": "stream",
     "text": [
      "/Users/damien/anaconda/lib/python3.5/site-packages/ipykernel/__main__.py:7: SettingWithCopyWarning: \n",
      "A value is trying to be set on a copy of a slice from a DataFrame\n",
      "\n",
      "See the caveats in the documentation: http://pandas.pydata.org/pandas-docs/stable/indexing.html#indexing-view-versus-copy\n",
      "/Users/damien/anaconda/lib/python3.5/site-packages/ipykernel/__main__.py:8: SettingWithCopyWarning: \n",
      "A value is trying to be set on a copy of a slice from a DataFrame\n",
      "\n",
      "See the caveats in the documentation: http://pandas.pydata.org/pandas-docs/stable/indexing.html#indexing-view-versus-copy\n"
     ]
    },
    {
     "data": {
      "text/html": [
       "<div>\n",
       "<table border=\"1\" class=\"dataframe\">\n",
       "  <thead>\n",
       "    <tr style=\"text-align: right;\">\n",
       "      <th></th>\n",
       "      <th>school</th>\n",
       "      <th>sex</th>\n",
       "      <th>age</th>\n",
       "      <th>address</th>\n",
       "      <th>1amsize</th>\n",
       "      <th>Pstatus</th>\n",
       "      <th>Medu</th>\n",
       "      <th>1edu</th>\n",
       "      <th>Mjob</th>\n",
       "      <th>1job</th>\n",
       "      <th>...</th>\n",
       "      <th>1amrel</th>\n",
       "      <th>1reetime</th>\n",
       "      <th>goout</th>\n",
       "      <th>Dalc</th>\n",
       "      <th>Walc</th>\n",
       "      <th>health</th>\n",
       "      <th>absences</th>\n",
       "      <th>G1</th>\n",
       "      <th>G2</th>\n",
       "      <th>G3</th>\n",
       "    </tr>\n",
       "    <tr>\n",
       "      <th>Passed</th>\n",
       "      <th></th>\n",
       "      <th></th>\n",
       "      <th></th>\n",
       "      <th></th>\n",
       "      <th></th>\n",
       "      <th></th>\n",
       "      <th></th>\n",
       "      <th></th>\n",
       "      <th></th>\n",
       "      <th></th>\n",
       "      <th></th>\n",
       "      <th></th>\n",
       "      <th></th>\n",
       "      <th></th>\n",
       "      <th></th>\n",
       "      <th></th>\n",
       "      <th></th>\n",
       "      <th></th>\n",
       "      <th></th>\n",
       "      <th></th>\n",
       "      <th></th>\n",
       "    </tr>\n",
       "  </thead>\n",
       "  <tbody>\n",
       "    <tr>\n",
       "      <th>fail</th>\n",
       "      <td>0.130769</td>\n",
       "      <td>0.576923</td>\n",
       "      <td>17.023077</td>\n",
       "      <td>0.746154</td>\n",
       "      <td>0.261538</td>\n",
       "      <td>0.915385</td>\n",
       "      <td>2.569231</td>\n",
       "      <td>2.353846</td>\n",
       "      <td>2.400000</td>\n",
       "      <td>2.500000</td>\n",
       "      <td>...</td>\n",
       "      <td>3.884615</td>\n",
       "      <td>3.261538</td>\n",
       "      <td>3.400000</td>\n",
       "      <td>1.553846</td>\n",
       "      <td>2.346154</td>\n",
       "      <td>3.684615</td>\n",
       "      <td>6.761538</td>\n",
       "      <td>7.761538</td>\n",
       "      <td>6.823077</td>\n",
       "      <td>5.384615</td>\n",
       "    </tr>\n",
       "    <tr>\n",
       "      <th>pass</th>\n",
       "      <td>0.109434</td>\n",
       "      <td>0.501887</td>\n",
       "      <td>16.535849</td>\n",
       "      <td>0.792453</td>\n",
       "      <td>0.301887</td>\n",
       "      <td>0.886792</td>\n",
       "      <td>2.837736</td>\n",
       "      <td>2.603774</td>\n",
       "      <td>2.215094</td>\n",
       "      <td>2.437736</td>\n",
       "      <td>...</td>\n",
       "      <td>3.973585</td>\n",
       "      <td>3.222642</td>\n",
       "      <td>2.966038</td>\n",
       "      <td>1.445283</td>\n",
       "      <td>2.264151</td>\n",
       "      <td>3.490566</td>\n",
       "      <td>5.192453</td>\n",
       "      <td>12.452830</td>\n",
       "      <td>12.622642</td>\n",
       "      <td>12.883019</td>\n",
       "    </tr>\n",
       "  </tbody>\n",
       "</table>\n",
       "<p>2 rows × 33 columns</p>\n",
       "</div>"
      ],
      "text/plain": [
       "          school       sex        age   address   1amsize   Pstatus      Medu  \\\n",
       "Passed                                                                          \n",
       "fail    0.130769  0.576923  17.023077  0.746154  0.261538  0.915385  2.569231   \n",
       "pass    0.109434  0.501887  16.535849  0.792453  0.301887  0.886792  2.837736   \n",
       "\n",
       "            1edu      Mjob      1job    ...        1amrel  1reetime     goout  \\\n",
       "Passed                                  ...                                     \n",
       "fail    2.353846  2.400000  2.500000    ...      3.884615  3.261538  3.400000   \n",
       "pass    2.603774  2.215094  2.437736    ...      3.973585  3.222642  2.966038   \n",
       "\n",
       "            Dalc      Walc    health  absences         G1         G2  \\\n",
       "Passed                                                                 \n",
       "fail    1.553846  2.346154  3.684615  6.761538   7.761538   6.823077   \n",
       "pass    1.445283  2.264151  3.490566  5.192453  12.452830  12.622642   \n",
       "\n",
       "               G3  \n",
       "Passed             \n",
       "fail     5.384615  \n",
       "pass    12.883019  \n",
       "\n",
       "[2 rows x 33 columns]"
      ]
     },
     "execution_count": 31,
     "metadata": {},
     "output_type": "execute_result"
    }
   ],
   "source": [
    "import pandas as pd\n",
    "import numpy as np\n",
    "\n",
    "path = '/Users/damien/Documents/Sinf/2eme_bis/2eme_quadri/QDA/project_Classification/Select2.csv'\n",
    "my_db = pd.read_csv(path, sep=';')\n",
    "\n",
    "my_db.Passed[my_db[\"Passed\"]== 1] = 'pass'\n",
    "my_db.Passed[my_db[\"Passed\"]== 0] = 'fail'\n",
    "\n",
    "# Number of student that passed\n",
    "n_pass = my_db['Passed'][my_db['Passed'] == 'pass'].count()\n",
    "\n",
    "# Number of student that failed\n",
    "n_fail = my_db['Passed'][my_db['Passed'] == 'fail'].count()\n",
    "\n",
    "# Total rows\n",
    "total_ppl = my_db['Passed'].count()\n",
    "\n",
    "# Number of student that passed divided by the total rows\n",
    "P_pass = n_pass/total_ppl\n",
    "\n",
    "# Number of student that failed divided by the total rows\n",
    "P_fail = n_fail/total_ppl\n",
    "\n",
    "my_db_means = my_db.groupby('Passed').mean()\n",
    "\n",
    "test = pd.DataFrame()\n",
    "\n",
    "test['guardian'] = [0]\n",
    "test['failures'] = [0]\n",
    "test['schoolsup'] = [1]\n",
    "test['paid'] = [0]\n",
    "test['higher'] = [1]\n",
    "test['romantic'] = [0]\n",
    "test['goout'] = [4]\n",
    "test['age'] = [18]\n",
    "\n",
    "\n",
    "my_db_means\n"
   ]
  },
  {
   "cell_type": "code",
   "execution_count": 32,
   "metadata": {
    "collapsed": false
   },
   "outputs": [
    {
     "data": {
      "text/html": [
       "<div>\n",
       "<table border=\"1\" class=\"dataframe\">\n",
       "  <thead>\n",
       "    <tr style=\"text-align: right;\">\n",
       "      <th></th>\n",
       "      <th>school</th>\n",
       "      <th>sex</th>\n",
       "      <th>age</th>\n",
       "      <th>address</th>\n",
       "      <th>1amsize</th>\n",
       "      <th>Pstatus</th>\n",
       "      <th>Medu</th>\n",
       "      <th>1edu</th>\n",
       "      <th>Mjob</th>\n",
       "      <th>1job</th>\n",
       "      <th>...</th>\n",
       "      <th>1amrel</th>\n",
       "      <th>1reetime</th>\n",
       "      <th>goout</th>\n",
       "      <th>Dalc</th>\n",
       "      <th>Walc</th>\n",
       "      <th>health</th>\n",
       "      <th>absences</th>\n",
       "      <th>G1</th>\n",
       "      <th>G2</th>\n",
       "      <th>G3</th>\n",
       "    </tr>\n",
       "    <tr>\n",
       "      <th>Passed</th>\n",
       "      <th></th>\n",
       "      <th></th>\n",
       "      <th></th>\n",
       "      <th></th>\n",
       "      <th></th>\n",
       "      <th></th>\n",
       "      <th></th>\n",
       "      <th></th>\n",
       "      <th></th>\n",
       "      <th></th>\n",
       "      <th></th>\n",
       "      <th></th>\n",
       "      <th></th>\n",
       "      <th></th>\n",
       "      <th></th>\n",
       "      <th></th>\n",
       "      <th></th>\n",
       "      <th></th>\n",
       "      <th></th>\n",
       "      <th></th>\n",
       "      <th></th>\n",
       "    </tr>\n",
       "  </thead>\n",
       "  <tbody>\n",
       "    <tr>\n",
       "      <th>fail</th>\n",
       "      <td>0.114550</td>\n",
       "      <td>0.245975</td>\n",
       "      <td>1.914192</td>\n",
       "      <td>0.190877</td>\n",
       "      <td>0.194633</td>\n",
       "      <td>0.078056</td>\n",
       "      <td>1.192844</td>\n",
       "      <td>1.145140</td>\n",
       "      <td>1.575194</td>\n",
       "      <td>0.794574</td>\n",
       "      <td>...</td>\n",
       "      <td>0.785033</td>\n",
       "      <td>0.923315</td>\n",
       "      <td>1.280620</td>\n",
       "      <td>0.807156</td>\n",
       "      <td>1.778473</td>\n",
       "      <td>1.690459</td>\n",
       "      <td>109.764401</td>\n",
       "      <td>2.896184</td>\n",
       "      <td>7.356052</td>\n",
       "      <td>13.323792</td>\n",
       "    </tr>\n",
       "    <tr>\n",
       "      <th>pass</th>\n",
       "      <td>0.097827</td>\n",
       "      <td>0.250943</td>\n",
       "      <td>1.416324</td>\n",
       "      <td>0.165094</td>\n",
       "      <td>0.211549</td>\n",
       "      <td>0.100772</td>\n",
       "      <td>1.181904</td>\n",
       "      <td>1.187107</td>\n",
       "      <td>1.540680</td>\n",
       "      <td>0.928874</td>\n",
       "      <td>...</td>\n",
       "      <td>0.813694</td>\n",
       "      <td>1.037364</td>\n",
       "      <td>1.161721</td>\n",
       "      <td>0.785820</td>\n",
       "      <td>1.604202</td>\n",
       "      <td>2.046312</td>\n",
       "      <td>41.140852</td>\n",
       "      <td>7.756289</td>\n",
       "      <td>6.410091</td>\n",
       "      <td>6.240051</td>\n",
       "    </tr>\n",
       "  </tbody>\n",
       "</table>\n",
       "<p>2 rows × 33 columns</p>\n",
       "</div>"
      ],
      "text/plain": [
       "          school       sex       age   address   1amsize   Pstatus      Medu  \\\n",
       "Passed                                                                         \n",
       "fail    0.114550  0.245975  1.914192  0.190877  0.194633  0.078056  1.192844   \n",
       "pass    0.097827  0.250943  1.416324  0.165094  0.211549  0.100772  1.181904   \n",
       "\n",
       "            1edu      Mjob      1job    ...        1amrel  1reetime     goout  \\\n",
       "Passed                                  ...                                     \n",
       "fail    1.145140  1.575194  0.794574    ...      0.785033  0.923315  1.280620   \n",
       "pass    1.187107  1.540680  0.928874    ...      0.813694  1.037364  1.161721   \n",
       "\n",
       "            Dalc      Walc    health    absences        G1        G2  \\\n",
       "Passed                                                                 \n",
       "fail    0.807156  1.778473  1.690459  109.764401  2.896184  7.356052   \n",
       "pass    0.785820  1.604202  2.046312   41.140852  7.756289  6.410091   \n",
       "\n",
       "               G3  \n",
       "Passed             \n",
       "fail    13.323792  \n",
       "pass     6.240051  \n",
       "\n",
       "[2 rows x 33 columns]"
      ]
     },
     "execution_count": 32,
     "metadata": {},
     "output_type": "execute_result"
    }
   ],
   "source": [
    "# Group the data by gender and calculate the variance of each feature\n",
    "my_db_variance = my_db.groupby('Passed').var()\n",
    "\n",
    "# View the values\n",
    "my_db_variance"
   ]
  },
  {
   "cell_type": "code",
   "execution_count": 33,
   "metadata": {
    "collapsed": false
   },
   "outputs": [
    {
     "ename": "KeyError",
     "evalue": "'failures'",
     "output_type": "error",
     "traceback": [
      "\u001b[0;31m---------------------------------------------------------------------------\u001b[0m",
      "\u001b[0;31mKeyError\u001b[0m                                  Traceback (most recent call last)",
      "\u001b[0;32m/Users/damien/anaconda/lib/python3.5/site-packages/pandas/indexes/base.py\u001b[0m in \u001b[0;36mget_loc\u001b[0;34m(self, key, method, tolerance)\u001b[0m\n\u001b[1;32m   2133\u001b[0m             \u001b[0;32mtry\u001b[0m\u001b[0;34m:\u001b[0m\u001b[0;34m\u001b[0m\u001b[0m\n\u001b[0;32m-> 2134\u001b[0;31m                 \u001b[0;32mreturn\u001b[0m \u001b[0mself\u001b[0m\u001b[0;34m.\u001b[0m\u001b[0m_engine\u001b[0m\u001b[0;34m.\u001b[0m\u001b[0mget_loc\u001b[0m\u001b[0;34m(\u001b[0m\u001b[0mkey\u001b[0m\u001b[0;34m)\u001b[0m\u001b[0;34m\u001b[0m\u001b[0m\n\u001b[0m\u001b[1;32m   2135\u001b[0m             \u001b[0;32mexcept\u001b[0m \u001b[0mKeyError\u001b[0m\u001b[0;34m:\u001b[0m\u001b[0;34m\u001b[0m\u001b[0m\n",
      "\u001b[0;32mpandas/index.pyx\u001b[0m in \u001b[0;36mpandas.index.IndexEngine.get_loc (pandas/index.c:4433)\u001b[0;34m()\u001b[0m\n",
      "\u001b[0;32mpandas/index.pyx\u001b[0m in \u001b[0;36mpandas.index.IndexEngine.get_loc (pandas/index.c:4279)\u001b[0;34m()\u001b[0m\n",
      "\u001b[0;32mpandas/src/hashtable_class_helper.pxi\u001b[0m in \u001b[0;36mpandas.hashtable.PyObjectHashTable.get_item (pandas/hashtable.c:13742)\u001b[0;34m()\u001b[0m\n",
      "\u001b[0;32mpandas/src/hashtable_class_helper.pxi\u001b[0m in \u001b[0;36mpandas.hashtable.PyObjectHashTable.get_item (pandas/hashtable.c:13696)\u001b[0;34m()\u001b[0m\n",
      "\u001b[0;31mKeyError\u001b[0m: 'failures'",
      "\nDuring handling of the above exception, another exception occurred:\n",
      "\u001b[0;31mKeyError\u001b[0m                                  Traceback (most recent call last)",
      "\u001b[0;32m<ipython-input-33-c3f52b1f465c>\u001b[0m in \u001b[0;36m<module>\u001b[0;34m()\u001b[0m\n\u001b[1;32m      1\u001b[0m \u001b[0;31m# Means for student that pass\u001b[0m\u001b[0;34m\u001b[0m\u001b[0;34m\u001b[0m\u001b[0m\n\u001b[1;32m      2\u001b[0m \u001b[0mpass_guardian_mean\u001b[0m \u001b[0;34m=\u001b[0m \u001b[0mmy_db_means\u001b[0m\u001b[0;34m[\u001b[0m\u001b[0;34m'guardian'\u001b[0m\u001b[0;34m]\u001b[0m\u001b[0;34m[\u001b[0m\u001b[0mmy_db_variance\u001b[0m\u001b[0;34m.\u001b[0m\u001b[0mindex\u001b[0m \u001b[0;34m==\u001b[0m \u001b[0;34m'pass'\u001b[0m\u001b[0;34m]\u001b[0m\u001b[0;34m.\u001b[0m\u001b[0mvalues\u001b[0m\u001b[0;34m[\u001b[0m\u001b[0;36m0\u001b[0m\u001b[0;34m]\u001b[0m\u001b[0;34m\u001b[0m\u001b[0m\n\u001b[0;32m----> 3\u001b[0;31m \u001b[0mpass_failures_mean\u001b[0m \u001b[0;34m=\u001b[0m \u001b[0mmy_db_means\u001b[0m\u001b[0;34m[\u001b[0m\u001b[0;34m'failures'\u001b[0m\u001b[0;34m]\u001b[0m\u001b[0;34m[\u001b[0m\u001b[0mmy_db_variance\u001b[0m\u001b[0;34m.\u001b[0m\u001b[0mindex\u001b[0m \u001b[0;34m==\u001b[0m \u001b[0;34m'pass'\u001b[0m\u001b[0;34m]\u001b[0m\u001b[0;34m.\u001b[0m\u001b[0mvalues\u001b[0m\u001b[0;34m[\u001b[0m\u001b[0;36m0\u001b[0m\u001b[0;34m]\u001b[0m\u001b[0;34m\u001b[0m\u001b[0m\n\u001b[0m\u001b[1;32m      4\u001b[0m \u001b[0mpass_schoolsup_mean\u001b[0m \u001b[0;34m=\u001b[0m \u001b[0mmy_db_means\u001b[0m\u001b[0;34m[\u001b[0m\u001b[0;34m'schoolsup'\u001b[0m\u001b[0;34m]\u001b[0m\u001b[0;34m[\u001b[0m\u001b[0mmy_db_variance\u001b[0m\u001b[0;34m.\u001b[0m\u001b[0mindex\u001b[0m \u001b[0;34m==\u001b[0m \u001b[0;34m'pass'\u001b[0m\u001b[0;34m]\u001b[0m\u001b[0;34m.\u001b[0m\u001b[0mvalues\u001b[0m\u001b[0;34m[\u001b[0m\u001b[0;36m0\u001b[0m\u001b[0;34m]\u001b[0m\u001b[0;34m\u001b[0m\u001b[0m\n\u001b[1;32m      5\u001b[0m \u001b[0mpass_paid_mean\u001b[0m \u001b[0;34m=\u001b[0m \u001b[0mmy_db_means\u001b[0m\u001b[0;34m[\u001b[0m\u001b[0;34m'paid'\u001b[0m\u001b[0;34m]\u001b[0m\u001b[0;34m[\u001b[0m\u001b[0mmy_db_variance\u001b[0m\u001b[0;34m.\u001b[0m\u001b[0mindex\u001b[0m \u001b[0;34m==\u001b[0m \u001b[0;34m'pass'\u001b[0m\u001b[0;34m]\u001b[0m\u001b[0;34m.\u001b[0m\u001b[0mvalues\u001b[0m\u001b[0;34m[\u001b[0m\u001b[0;36m0\u001b[0m\u001b[0;34m]\u001b[0m\u001b[0;34m\u001b[0m\u001b[0m\n",
      "\u001b[0;32m/Users/damien/anaconda/lib/python3.5/site-packages/pandas/core/frame.py\u001b[0m in \u001b[0;36m__getitem__\u001b[0;34m(self, key)\u001b[0m\n\u001b[1;32m   2057\u001b[0m             \u001b[0;32mreturn\u001b[0m \u001b[0mself\u001b[0m\u001b[0;34m.\u001b[0m\u001b[0m_getitem_multilevel\u001b[0m\u001b[0;34m(\u001b[0m\u001b[0mkey\u001b[0m\u001b[0;34m)\u001b[0m\u001b[0;34m\u001b[0m\u001b[0m\n\u001b[1;32m   2058\u001b[0m         \u001b[0;32melse\u001b[0m\u001b[0;34m:\u001b[0m\u001b[0;34m\u001b[0m\u001b[0m\n\u001b[0;32m-> 2059\u001b[0;31m             \u001b[0;32mreturn\u001b[0m \u001b[0mself\u001b[0m\u001b[0;34m.\u001b[0m\u001b[0m_getitem_column\u001b[0m\u001b[0;34m(\u001b[0m\u001b[0mkey\u001b[0m\u001b[0;34m)\u001b[0m\u001b[0;34m\u001b[0m\u001b[0m\n\u001b[0m\u001b[1;32m   2060\u001b[0m \u001b[0;34m\u001b[0m\u001b[0m\n\u001b[1;32m   2061\u001b[0m     \u001b[0;32mdef\u001b[0m \u001b[0m_getitem_column\u001b[0m\u001b[0;34m(\u001b[0m\u001b[0mself\u001b[0m\u001b[0;34m,\u001b[0m \u001b[0mkey\u001b[0m\u001b[0;34m)\u001b[0m\u001b[0;34m:\u001b[0m\u001b[0;34m\u001b[0m\u001b[0m\n",
      "\u001b[0;32m/Users/damien/anaconda/lib/python3.5/site-packages/pandas/core/frame.py\u001b[0m in \u001b[0;36m_getitem_column\u001b[0;34m(self, key)\u001b[0m\n\u001b[1;32m   2064\u001b[0m         \u001b[0;31m# get column\u001b[0m\u001b[0;34m\u001b[0m\u001b[0;34m\u001b[0m\u001b[0m\n\u001b[1;32m   2065\u001b[0m         \u001b[0;32mif\u001b[0m \u001b[0mself\u001b[0m\u001b[0;34m.\u001b[0m\u001b[0mcolumns\u001b[0m\u001b[0;34m.\u001b[0m\u001b[0mis_unique\u001b[0m\u001b[0;34m:\u001b[0m\u001b[0;34m\u001b[0m\u001b[0m\n\u001b[0;32m-> 2066\u001b[0;31m             \u001b[0;32mreturn\u001b[0m \u001b[0mself\u001b[0m\u001b[0;34m.\u001b[0m\u001b[0m_get_item_cache\u001b[0m\u001b[0;34m(\u001b[0m\u001b[0mkey\u001b[0m\u001b[0;34m)\u001b[0m\u001b[0;34m\u001b[0m\u001b[0m\n\u001b[0m\u001b[1;32m   2067\u001b[0m \u001b[0;34m\u001b[0m\u001b[0m\n\u001b[1;32m   2068\u001b[0m         \u001b[0;31m# duplicate columns & possible reduce dimensionality\u001b[0m\u001b[0;34m\u001b[0m\u001b[0;34m\u001b[0m\u001b[0m\n",
      "\u001b[0;32m/Users/damien/anaconda/lib/python3.5/site-packages/pandas/core/generic.py\u001b[0m in \u001b[0;36m_get_item_cache\u001b[0;34m(self, item)\u001b[0m\n\u001b[1;32m   1384\u001b[0m         \u001b[0mres\u001b[0m \u001b[0;34m=\u001b[0m \u001b[0mcache\u001b[0m\u001b[0;34m.\u001b[0m\u001b[0mget\u001b[0m\u001b[0;34m(\u001b[0m\u001b[0mitem\u001b[0m\u001b[0;34m)\u001b[0m\u001b[0;34m\u001b[0m\u001b[0m\n\u001b[1;32m   1385\u001b[0m         \u001b[0;32mif\u001b[0m \u001b[0mres\u001b[0m \u001b[0;32mis\u001b[0m \u001b[0;32mNone\u001b[0m\u001b[0;34m:\u001b[0m\u001b[0;34m\u001b[0m\u001b[0m\n\u001b[0;32m-> 1386\u001b[0;31m             \u001b[0mvalues\u001b[0m \u001b[0;34m=\u001b[0m \u001b[0mself\u001b[0m\u001b[0;34m.\u001b[0m\u001b[0m_data\u001b[0m\u001b[0;34m.\u001b[0m\u001b[0mget\u001b[0m\u001b[0;34m(\u001b[0m\u001b[0mitem\u001b[0m\u001b[0;34m)\u001b[0m\u001b[0;34m\u001b[0m\u001b[0m\n\u001b[0m\u001b[1;32m   1387\u001b[0m             \u001b[0mres\u001b[0m \u001b[0;34m=\u001b[0m \u001b[0mself\u001b[0m\u001b[0;34m.\u001b[0m\u001b[0m_box_item_values\u001b[0m\u001b[0;34m(\u001b[0m\u001b[0mitem\u001b[0m\u001b[0;34m,\u001b[0m \u001b[0mvalues\u001b[0m\u001b[0;34m)\u001b[0m\u001b[0;34m\u001b[0m\u001b[0m\n\u001b[1;32m   1388\u001b[0m             \u001b[0mcache\u001b[0m\u001b[0;34m[\u001b[0m\u001b[0mitem\u001b[0m\u001b[0;34m]\u001b[0m \u001b[0;34m=\u001b[0m \u001b[0mres\u001b[0m\u001b[0;34m\u001b[0m\u001b[0m\n",
      "\u001b[0;32m/Users/damien/anaconda/lib/python3.5/site-packages/pandas/core/internals.py\u001b[0m in \u001b[0;36mget\u001b[0;34m(self, item, fastpath)\u001b[0m\n\u001b[1;32m   3541\u001b[0m \u001b[0;34m\u001b[0m\u001b[0m\n\u001b[1;32m   3542\u001b[0m             \u001b[0;32mif\u001b[0m \u001b[0;32mnot\u001b[0m \u001b[0misnull\u001b[0m\u001b[0;34m(\u001b[0m\u001b[0mitem\u001b[0m\u001b[0;34m)\u001b[0m\u001b[0;34m:\u001b[0m\u001b[0;34m\u001b[0m\u001b[0m\n\u001b[0;32m-> 3543\u001b[0;31m                 \u001b[0mloc\u001b[0m \u001b[0;34m=\u001b[0m \u001b[0mself\u001b[0m\u001b[0;34m.\u001b[0m\u001b[0mitems\u001b[0m\u001b[0;34m.\u001b[0m\u001b[0mget_loc\u001b[0m\u001b[0;34m(\u001b[0m\u001b[0mitem\u001b[0m\u001b[0;34m)\u001b[0m\u001b[0;34m\u001b[0m\u001b[0m\n\u001b[0m\u001b[1;32m   3544\u001b[0m             \u001b[0;32melse\u001b[0m\u001b[0;34m:\u001b[0m\u001b[0;34m\u001b[0m\u001b[0m\n\u001b[1;32m   3545\u001b[0m                 \u001b[0mindexer\u001b[0m \u001b[0;34m=\u001b[0m \u001b[0mnp\u001b[0m\u001b[0;34m.\u001b[0m\u001b[0marange\u001b[0m\u001b[0;34m(\u001b[0m\u001b[0mlen\u001b[0m\u001b[0;34m(\u001b[0m\u001b[0mself\u001b[0m\u001b[0;34m.\u001b[0m\u001b[0mitems\u001b[0m\u001b[0;34m)\u001b[0m\u001b[0;34m)\u001b[0m\u001b[0;34m[\u001b[0m\u001b[0misnull\u001b[0m\u001b[0;34m(\u001b[0m\u001b[0mself\u001b[0m\u001b[0;34m.\u001b[0m\u001b[0mitems\u001b[0m\u001b[0;34m)\u001b[0m\u001b[0;34m]\u001b[0m\u001b[0;34m\u001b[0m\u001b[0m\n",
      "\u001b[0;32m/Users/damien/anaconda/lib/python3.5/site-packages/pandas/indexes/base.py\u001b[0m in \u001b[0;36mget_loc\u001b[0;34m(self, key, method, tolerance)\u001b[0m\n\u001b[1;32m   2134\u001b[0m                 \u001b[0;32mreturn\u001b[0m \u001b[0mself\u001b[0m\u001b[0;34m.\u001b[0m\u001b[0m_engine\u001b[0m\u001b[0;34m.\u001b[0m\u001b[0mget_loc\u001b[0m\u001b[0;34m(\u001b[0m\u001b[0mkey\u001b[0m\u001b[0;34m)\u001b[0m\u001b[0;34m\u001b[0m\u001b[0m\n\u001b[1;32m   2135\u001b[0m             \u001b[0;32mexcept\u001b[0m \u001b[0mKeyError\u001b[0m\u001b[0;34m:\u001b[0m\u001b[0;34m\u001b[0m\u001b[0m\n\u001b[0;32m-> 2136\u001b[0;31m                 \u001b[0;32mreturn\u001b[0m \u001b[0mself\u001b[0m\u001b[0;34m.\u001b[0m\u001b[0m_engine\u001b[0m\u001b[0;34m.\u001b[0m\u001b[0mget_loc\u001b[0m\u001b[0;34m(\u001b[0m\u001b[0mself\u001b[0m\u001b[0;34m.\u001b[0m\u001b[0m_maybe_cast_indexer\u001b[0m\u001b[0;34m(\u001b[0m\u001b[0mkey\u001b[0m\u001b[0;34m)\u001b[0m\u001b[0;34m)\u001b[0m\u001b[0;34m\u001b[0m\u001b[0m\n\u001b[0m\u001b[1;32m   2137\u001b[0m \u001b[0;34m\u001b[0m\u001b[0m\n\u001b[1;32m   2138\u001b[0m         \u001b[0mindexer\u001b[0m \u001b[0;34m=\u001b[0m \u001b[0mself\u001b[0m\u001b[0;34m.\u001b[0m\u001b[0mget_indexer\u001b[0m\u001b[0;34m(\u001b[0m\u001b[0;34m[\u001b[0m\u001b[0mkey\u001b[0m\u001b[0;34m]\u001b[0m\u001b[0;34m,\u001b[0m \u001b[0mmethod\u001b[0m\u001b[0;34m=\u001b[0m\u001b[0mmethod\u001b[0m\u001b[0;34m,\u001b[0m \u001b[0mtolerance\u001b[0m\u001b[0;34m=\u001b[0m\u001b[0mtolerance\u001b[0m\u001b[0;34m)\u001b[0m\u001b[0;34m\u001b[0m\u001b[0m\n",
      "\u001b[0;32mpandas/index.pyx\u001b[0m in \u001b[0;36mpandas.index.IndexEngine.get_loc (pandas/index.c:4433)\u001b[0;34m()\u001b[0m\n",
      "\u001b[0;32mpandas/index.pyx\u001b[0m in \u001b[0;36mpandas.index.IndexEngine.get_loc (pandas/index.c:4279)\u001b[0;34m()\u001b[0m\n",
      "\u001b[0;32mpandas/src/hashtable_class_helper.pxi\u001b[0m in \u001b[0;36mpandas.hashtable.PyObjectHashTable.get_item (pandas/hashtable.c:13742)\u001b[0;34m()\u001b[0m\n",
      "\u001b[0;32mpandas/src/hashtable_class_helper.pxi\u001b[0m in \u001b[0;36mpandas.hashtable.PyObjectHashTable.get_item (pandas/hashtable.c:13696)\u001b[0;34m()\u001b[0m\n",
      "\u001b[0;31mKeyError\u001b[0m: 'failures'"
     ]
    }
   ],
   "source": [
    "# Means for student that pass\n",
    "pass_guardian_mean = my_db_means['guardian'][my_db_variance.index == 'pass'].values[0]\n",
    "pass_failures_mean = my_db_means['failures'][my_db_variance.index == 'pass'].values[0]\n",
    "pass_schoolsup_mean = my_db_means['schoolsup'][my_db_variance.index == 'pass'].values[0]\n",
    "pass_paid_mean = my_db_means['paid'][my_db_variance.index == 'pass'].values[0]\n",
    "pass_higher_mean = my_db_means['higher'][my_db_variance.index == 'pass'].values[0]\n",
    "pass_romantic_mean = my_db_means['romantic'][my_db_variance.index == 'pass'].values[0]\n",
    "pass_goout_mean = my_db_means['goout'][my_db_variance.index == 'pass'].values[0]\n",
    "pass_age_mean = my_db_means['age'][my_db_variance.index == 'pass'].values[0]\n",
    "\n",
    "# Variance for student that pass\n",
    "pass_guardian_variance = my_db_variance['guardian'][my_db_variance.index == 'pass'].values[0]\n",
    "pass_failures_variance = my_db_variance['failures'][my_db_variance.index == 'pass'].values[0]\n",
    "pass_schoolsup_variance = my_db_variance['schoolsup'][my_db_variance.index == 'pass'].values[0]\n",
    "pass_paid_variance = my_db_variance['paid'][my_db_variance.index == 'pass'].values[0]\n",
    "pass_higher_variance = my_db_variance['higher'][my_db_variance.index == 'pass'].values[0]\n",
    "pass_romantic_variance = my_db_variance['romantic'][my_db_variance.index == 'pass'].values[0]\n",
    "pass_goout_variance = my_db_variance['goout'][my_db_variance.index == 'pass'].values[0]\n",
    "pass_age_variance = my_db_variance['age'][my_db_variance.index == 'pass'].values[0]\n",
    "\n",
    "\n",
    "# Means for student that fail\n",
    "fail_guardian_mean = my_db_means['guardian'][my_db_variance.index == 'fail'].values[0]\n",
    "fail_failures_mean = my_db_means['failures'][my_db_variance.index == 'fail'].values[0]\n",
    "fail_schoolsup_mean = my_db_means['schoolsup'][my_db_variance.index == 'fail'].values[0]\n",
    "fail_paid_mean = my_db_means['paid'][my_db_variance.index == 'fail'].values[0]\n",
    "fail_higher_mean = my_db_means['higher'][my_db_variance.index == 'fail'].values[0]\n",
    "fail_romantic_mean = my_db_means['romantic'][my_db_variance.index == 'fail'].values[0]\n",
    "fail_goout_mean = my_db_means['goout'][my_db_variance.index == 'fail'].values[0]\n",
    "fail_age_mean = my_db_means['age'][my_db_variance.index == 'fail'].values[0]\n",
    "\n",
    "# Variance for student that fail\n",
    "fail_guardian_variance = my_db_variance['guardian'][my_db_variance.index == 'fail'].values[0]\n",
    "fail_failures_variance = my_db_variance['failures'][my_db_variance.index == 'fail'].values[0]\n",
    "fail_schoolsup_variance = my_db_variance['schoolsup'][my_db_variance.index == 'fail'].values[0]\n",
    "fail_paid_variance = my_db_variance['paid'][my_db_variance.index == 'fail'].values[0]\n",
    "fail_higher_variance = my_db_variance['higher'][my_db_variance.index == 'fail'].values[0]\n",
    "fail_romantic_variance = my_db_variance['romantic'][my_db_variance.index == 'fail'].values[0]\n",
    "fail_goout_variance = my_db_variance['goout'][my_db_variance.index == 'fail'].values[0]\n",
    "fail_age_variance = my_db_variance['age'][my_db_variance.index == 'fail'].values[0]\n"
   ]
  },
  {
   "cell_type": "code",
   "execution_count": 34,
   "metadata": {
    "collapsed": false
   },
   "outputs": [],
   "source": [
    "# Create a function that calculates p(x | y):\n",
    "def p_x_given_y(x, mean_y, variance_y):\n",
    "\n",
    "    # Input the arguments into a probability density function\n",
    "    p = 1/(np.sqrt(2*np.pi*variance_y)) * np.exp((-(x-mean_y)**2)/(2*variance_y))\n",
    "\n",
    "    return p"
   ]
  },
  {
   "cell_type": "code",
   "execution_count": 35,
   "metadata": {
    "collapsed": false
   },
   "outputs": [
    {
     "data": {
      "text/plain": [
       "0.00016828255001016549"
      ]
     },
     "execution_count": 35,
     "metadata": {},
     "output_type": "execute_result"
    }
   ],
   "source": [
    "# Numerator of the posterior if the unclassified observation is a student that passed\n",
    "P_pass * \\\n",
    "p_x_given_y(test['guardian'][0], pass_guardian_mean, pass_guardian_variance) * \\\n",
    "p_x_given_y(test['failures'][0], pass_failures_mean, pass_failures_variance) * \\\n",
    "p_x_given_y(test['schoolsup'][0], pass_schoolsup_mean, pass_schoolsup_variance) * \\\n",
    "p_x_given_y(test['paid'][0], pass_paid_mean, pass_paid_variance) * \\\n",
    "p_x_given_y(test['higher'][0], pass_higher_mean, pass_higher_variance) * \\\n",
    "p_x_given_y(test['romantic'][0], pass_romantic_mean, pass_romantic_variance) * \\\n",
    "p_x_given_y(test['goout'][0], pass_goout_mean, pass_goout_variance) * \\\n",
    "p_x_given_y(test['age'][0], pass_age_mean, pass_age_variance)\n"
   ]
  },
  {
   "cell_type": "code",
   "execution_count": 36,
   "metadata": {
    "collapsed": false
   },
   "outputs": [
    {
     "data": {
      "text/plain": [
       "0.0001487282397439619"
      ]
     },
     "execution_count": 36,
     "metadata": {},
     "output_type": "execute_result"
    }
   ],
   "source": [
    "# Numerator of the posterior if the unclassified observation is a student that failed\n",
    "P_fail * \\\n",
    "p_x_given_y(test['guardian'][0], fail_guardian_mean, fail_guardian_variance) * \\\n",
    "p_x_given_y(test['failures'][0], fail_failures_mean, fail_failures_variance) * \\\n",
    "p_x_given_y(test['schoolsup'][0], fail_schoolsup_mean, fail_schoolsup_variance) * \\\n",
    "p_x_given_y(test['paid'][0], fail_paid_mean, fail_paid_variance) * \\\n",
    "p_x_given_y(test['higher'][0], fail_higher_mean, fail_higher_variance) * \\\n",
    "p_x_given_y(test['romantic'][0], fail_romantic_mean, fail_romantic_variance) * \\\n",
    "p_x_given_y(test['goout'][0], fail_goout_mean, fail_goout_variance) * \\\n",
    "p_x_given_y(test['age'][0], fail_age_mean, fail_age_variance)"
   ]
  },
  {
   "cell_type": "code",
   "execution_count": 37,
   "metadata": {
    "collapsed": false
   },
   "outputs": [
    {
     "name": "stdout",
     "output_type": "stream",
     "text": [
      "['pass' 'pass' 'fail' 'pass' 'pass' 'pass' 'fail' 'pass' 'pass' 'pass'\n",
      " 'pass' 'pass' 'pass' 'pass' 'pass' 'pass' 'pass' 'pass' 'pass' 'pass'\n",
      " 'fail' 'fail' 'pass' 'fail' 'fail' 'pass' 'fail' 'pass' 'pass' 'fail'\n",
      " 'fail' 'pass' 'pass' 'pass' 'pass' 'pass' 'pass' 'fail' 'fail' 'pass'\n",
      " 'fail' 'fail' 'pass' 'pass' 'pass' 'fail' 'fail' 'fail' 'pass' 'pass'\n",
      " 'fail' 'pass' 'pass' 'pass' 'fail' 'fail' 'pass' 'pass' 'pass' 'pass'\n",
      " 'pass' 'pass' 'fail' 'fail' 'pass' 'pass' 'pass' 'pass' 'fail' 'pass'\n",
      " 'pass' 'pass' 'pass' 'fail' 'fail' 'fail' 'pass' 'fail' 'pass']\n",
      "['pass' 'pass' 'fail' 'pass' 'pass' 'pass' 'fail' 'pass' 'pass' 'pass'\n",
      " 'pass' 'pass' 'pass' 'pass' 'pass' 'pass' 'pass' 'pass' 'pass' 'pass'\n",
      " 'fail' 'fail' 'pass' 'fail' 'fail' 'pass' 'fail' 'pass' 'pass' 'fail'\n",
      " 'fail' 'fail' 'pass' 'fail' 'pass' 'pass' 'pass' 'pass' 'fail' 'pass'\n",
      " 'fail' 'fail' 'pass' 'pass' 'pass' 'fail' 'fail' 'fail' 'pass' 'pass'\n",
      " 'fail' 'pass' 'pass' 'pass' 'fail' 'fail' 'pass' 'pass' 'pass' 'pass'\n",
      " 'pass' 'pass' 'fail' 'pass' 'pass' 'pass' 'pass' 'pass' 'fail' 'pass'\n",
      " 'fail' 'pass' 'pass' 'fail' 'fail' 'fail' 'pass' 'fail' 'pass']\n"
     ]
    }
   ],
   "source": [
    "from sklearn.naive_bayes import GaussianNB\n",
    "\n",
    "X = np.array(my_db.drop(['Passed'],1))\n",
    "Y = np.array(my_db['Passed'])\n",
    "X_train, X_test, Y_train, Y_test = cross_validation.train_test_split(X,Y,test_size = 0.2)\n",
    "clf = GaussianNB()\n",
    "clf.fit(X_train,Y_train)\n",
    "prediction = clf.predict(X_test)\n",
    "print(prediction)\n",
    "print(Y_test)"
   ]
  },
  {
   "cell_type": "code",
   "execution_count": 38,
   "metadata": {
    "collapsed": false
   },
   "outputs": [
    {
     "name": "stdout",
     "output_type": "stream",
     "text": [
      "0.936708860759\n"
     ]
    }
   ],
   "source": [
    "accuracy = clf.score(X_test, Y_test)\n",
    "print(accuracy)"
   ]
  },
  {
   "cell_type": "code",
   "execution_count": null,
   "metadata": {
    "collapsed": true
   },
   "outputs": [],
   "source": []
  }
 ],
 "metadata": {
  "kernelspec": {
   "display_name": "Python [default]",
   "language": "python",
   "name": "python3"
  },
  "language_info": {
   "codemirror_mode": {
    "name": "ipython",
    "version": 3
   },
   "file_extension": ".py",
   "mimetype": "text/x-python",
   "name": "python",
   "nbconvert_exporter": "python",
   "pygments_lexer": "ipython3",
   "version": "3.5.2"
  }
 },
 "nbformat": 4,
 "nbformat_minor": 2
}
