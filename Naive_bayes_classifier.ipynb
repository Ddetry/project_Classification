{
 "cells": [
  {
   "cell_type": "code",
   "execution_count": 35,
   "metadata": {
    "collapsed": false
   },
   "outputs": [
    {
     "data": {
      "text/html": [
       "<div>\n",
       "<table border=\"1\" class=\"dataframe\">\n",
       "  <thead>\n",
       "    <tr style=\"text-align: right;\">\n",
       "      <th></th>\n",
       "      <th>guardian</th>\n",
       "      <th>failures</th>\n",
       "      <th>schoolsup</th>\n",
       "      <th>paid</th>\n",
       "      <th>higher</th>\n",
       "      <th>romantic</th>\n",
       "      <th>goout</th>\n",
       "      <th>age</th>\n",
       "    </tr>\n",
       "    <tr>\n",
       "      <th>Passed</th>\n",
       "      <th></th>\n",
       "      <th></th>\n",
       "      <th></th>\n",
       "      <th></th>\n",
       "      <th></th>\n",
       "      <th></th>\n",
       "      <th></th>\n",
       "      <th></th>\n",
       "    </tr>\n",
       "  </thead>\n",
       "  <tbody>\n",
       "    <tr>\n",
       "      <th>fail</th>\n",
       "      <td>0.438462</td>\n",
       "      <td>0.692308</td>\n",
       "      <td>0.176923</td>\n",
       "      <td>0.392308</td>\n",
       "      <td>0.900000</td>\n",
       "      <td>0.400000</td>\n",
       "      <td>3.400000</td>\n",
       "      <td>17.023077</td>\n",
       "    </tr>\n",
       "    <tr>\n",
       "      <th>pass</th>\n",
       "      <td>0.366038</td>\n",
       "      <td>0.158491</td>\n",
       "      <td>0.105660</td>\n",
       "      <td>0.490566</td>\n",
       "      <td>0.973585</td>\n",
       "      <td>0.301887</td>\n",
       "      <td>2.966038</td>\n",
       "      <td>16.535849</td>\n",
       "    </tr>\n",
       "  </tbody>\n",
       "</table>\n",
       "</div>"
      ],
      "text/plain": [
       "        guardian  failures  schoolsup      paid    higher  romantic     goout  \\\n",
       "Passed                                                                          \n",
       "fail    0.438462  0.692308   0.176923  0.392308  0.900000  0.400000  3.400000   \n",
       "pass    0.366038  0.158491   0.105660  0.490566  0.973585  0.301887  2.966038   \n",
       "\n",
       "              age  \n",
       "Passed             \n",
       "fail    17.023077  \n",
       "pass    16.535849  "
      ]
     },
     "execution_count": 35,
     "metadata": {},
     "output_type": "execute_result"
    }
   ],
   "source": [
    "import pandas as pd\n",
    "import numpy as np\n",
    "from sklearn.tree import DecisionTreeClassifier, export_graphviz\n",
    "\n",
    "path = '/Users/damien/Documents/Sinf/2eme_bis/2eme_quadri/QDA/project_Classification/Select.csv'\n",
    "my_db = pd.read_csv(path, sep=';')\n",
    "\n",
    "my_db.Passed[my_db[\"Passed\"]== 1] = 'pass'\n",
    "my_db.Passed[my_db[\"Passed\"]== 0] = 'fail'\n",
    "\n",
    "# Number of student that passed\n",
    "n_pass = my_db['Passed'][my_db['Passed'] == 'pass'].count()\n",
    "\n",
    "# Number of student that failed\n",
    "n_fail = my_db['Passed'][my_db['Passed'] == 'fail'].count()\n",
    "\n",
    "# Total rows\n",
    "total_ppl = my_db['Passed'].count()\n",
    "\n",
    "# Number of student that passed divided by the total rows\n",
    "P_pass = n_pass/total_ppl\n",
    "\n",
    "# Number of student that failed divided by the total rows\n",
    "P_fail = n_fail/total_ppl\n",
    "\n",
    "my_db_means = my_db.groupby('Passed').mean()\n",
    "\n",
    "test = pd.DataFrame()\n",
    "\n",
    "test['guardian'] = [0]\n",
    "test['failures'] = [0]\n",
    "test['schoolsup'] = [1]\n",
    "test['paid'] = [0]\n",
    "test['higher'] = [1]\n",
    "test['romantic'] = [0]\n",
    "test['goout'] = [4]\n",
    "test['age'] = [18]\n",
    "\n",
    "\n",
    "my_db_means\n"
   ]
  },
  {
   "cell_type": "code",
   "execution_count": 36,
   "metadata": {
    "collapsed": false
   },
   "outputs": [
    {
     "data": {
      "text/html": [
       "<div>\n",
       "<table border=\"1\" class=\"dataframe\">\n",
       "  <thead>\n",
       "    <tr style=\"text-align: right;\">\n",
       "      <th></th>\n",
       "      <th>guardian</th>\n",
       "      <th>failures</th>\n",
       "      <th>schoolsup</th>\n",
       "      <th>paid</th>\n",
       "      <th>higher</th>\n",
       "      <th>romantic</th>\n",
       "      <th>goout</th>\n",
       "      <th>age</th>\n",
       "    </tr>\n",
       "    <tr>\n",
       "      <th>Passed</th>\n",
       "      <th></th>\n",
       "      <th></th>\n",
       "      <th></th>\n",
       "      <th></th>\n",
       "      <th></th>\n",
       "      <th></th>\n",
       "      <th></th>\n",
       "      <th></th>\n",
       "    </tr>\n",
       "  </thead>\n",
       "  <tbody>\n",
       "    <tr>\n",
       "      <th>fail</th>\n",
       "      <td>0.496184</td>\n",
       "      <td>0.989863</td>\n",
       "      <td>0.146750</td>\n",
       "      <td>0.240250</td>\n",
       "      <td>0.090698</td>\n",
       "      <td>0.241860</td>\n",
       "      <td>1.280620</td>\n",
       "      <td>1.914192</td>\n",
       "    </tr>\n",
       "    <tr>\n",
       "      <th>pass</th>\n",
       "      <td>0.354145</td>\n",
       "      <td>0.247513</td>\n",
       "      <td>0.094854</td>\n",
       "      <td>0.250858</td>\n",
       "      <td>0.025815</td>\n",
       "      <td>0.211549</td>\n",
       "      <td>1.161721</td>\n",
       "      <td>1.416324</td>\n",
       "    </tr>\n",
       "  </tbody>\n",
       "</table>\n",
       "</div>"
      ],
      "text/plain": [
       "        guardian  failures  schoolsup      paid    higher  romantic     goout  \\\n",
       "Passed                                                                          \n",
       "fail    0.496184  0.989863   0.146750  0.240250  0.090698  0.241860  1.280620   \n",
       "pass    0.354145  0.247513   0.094854  0.250858  0.025815  0.211549  1.161721   \n",
       "\n",
       "             age  \n",
       "Passed            \n",
       "fail    1.914192  \n",
       "pass    1.416324  "
      ]
     },
     "execution_count": 36,
     "metadata": {},
     "output_type": "execute_result"
    }
   ],
   "source": [
    "# Group the data by gender and calculate the variance of each feature\n",
    "my_db_variance = my_db.groupby('Passed').var()\n",
    "\n",
    "# View the values\n",
    "my_db_variance"
   ]
  },
  {
   "cell_type": "code",
   "execution_count": 37,
   "metadata": {
    "collapsed": false
   },
   "outputs": [],
   "source": [
    "# Means for student that pass\n",
    "pass_guardian_mean = my_db_means['guardian'][my_db_variance.index == 'pass'].values[0]\n",
    "pass_failures_mean = my_db_means['failures'][my_db_variance.index == 'pass'].values[0]\n",
    "pass_schoolsup_mean = my_db_means['schoolsup'][my_db_variance.index == 'pass'].values[0]\n",
    "pass_paid_mean = my_db_means['paid'][my_db_variance.index == 'pass'].values[0]\n",
    "pass_higher_mean = my_db_means['higher'][my_db_variance.index == 'pass'].values[0]\n",
    "pass_romantic_mean = my_db_means['romantic'][my_db_variance.index == 'pass'].values[0]\n",
    "pass_goout_mean = my_db_means['goout'][my_db_variance.index == 'pass'].values[0]\n",
    "pass_age_mean = my_db_means['age'][my_db_variance.index == 'pass'].values[0]\n",
    "\n",
    "# Variance for student that pass\n",
    "pass_guardian_variance = my_db_variance['guardian'][my_db_variance.index == 'pass'].values[0]\n",
    "pass_failures_variance = my_db_variance['failures'][my_db_variance.index == 'pass'].values[0]\n",
    "pass_schoolsup_variance = my_db_variance['schoolsup'][my_db_variance.index == 'pass'].values[0]\n",
    "pass_paid_variance = my_db_variance['paid'][my_db_variance.index == 'pass'].values[0]\n",
    "pass_higher_variance = my_db_variance['higher'][my_db_variance.index == 'pass'].values[0]\n",
    "pass_romantic_variance = my_db_variance['romantic'][my_db_variance.index == 'pass'].values[0]\n",
    "pass_goout_variance = my_db_variance['goout'][my_db_variance.index == 'pass'].values[0]\n",
    "pass_age_variance = my_db_variance['age'][my_db_variance.index == 'pass'].values[0]\n",
    "\n",
    "\n",
    "# Means for student that fail\n",
    "fail_guardian_mean = my_db_means['guardian'][my_db_variance.index == 'fail'].values[0]\n",
    "fail_failures_mean = my_db_means['failures'][my_db_variance.index == 'fail'].values[0]\n",
    "fail_schoolsup_mean = my_db_means['schoolsup'][my_db_variance.index == 'fail'].values[0]\n",
    "fail_paid_mean = my_db_means['paid'][my_db_variance.index == 'fail'].values[0]\n",
    "fail_higher_mean = my_db_means['higher'][my_db_variance.index == 'fail'].values[0]\n",
    "fail_romantic_mean = my_db_means['romantic'][my_db_variance.index == 'fail'].values[0]\n",
    "fail_goout_mean = my_db_means['goout'][my_db_variance.index == 'fail'].values[0]\n",
    "fail_age_mean = my_db_means['age'][my_db_variance.index == 'fail'].values[0]\n",
    "\n",
    "# Variance for student that fail\n",
    "fail_guardian_variance = my_db_variance['guardian'][my_db_variance.index == 'fail'].values[0]\n",
    "fail_failures_variance = my_db_variance['failures'][my_db_variance.index == 'fail'].values[0]\n",
    "fail_schoolsup_variance = my_db_variance['schoolsup'][my_db_variance.index == 'fail'].values[0]\n",
    "fail_paid_variance = my_db_variance['paid'][my_db_variance.index == 'fail'].values[0]\n",
    "fail_higher_variance = my_db_variance['higher'][my_db_variance.index == 'fail'].values[0]\n",
    "fail_romantic_variance = my_db_variance['romantic'][my_db_variance.index == 'fail'].values[0]\n",
    "fail_goout_variance = my_db_variance['goout'][my_db_variance.index == 'fail'].values[0]\n",
    "fail_age_variance = my_db_variance['age'][my_db_variance.index == 'fail'].values[0]\n"
   ]
  },
  {
   "cell_type": "code",
   "execution_count": 38,
   "metadata": {
    "collapsed": false
   },
   "outputs": [],
   "source": [
    "# Create a function that calculates p(x | y):\n",
    "def p_x_given_y(x, mean_y, variance_y):\n",
    "\n",
    "    # Input the arguments into a probability density function\n",
    "    p = 1/(np.sqrt(2*np.pi*variance_y)) * np.exp((-(x-mean_y)**2)/(2*variance_y))\n",
    "\n",
    "    return p"
   ]
  },
  {
   "cell_type": "code",
   "execution_count": 40,
   "metadata": {
    "collapsed": false
   },
   "outputs": [
    {
     "data": {
      "text/plain": [
       "0.00016828255001016549"
      ]
     },
     "execution_count": 40,
     "metadata": {},
     "output_type": "execute_result"
    }
   ],
   "source": [
    "# Numerator of the posterior if the unclassified observation is a student that passed\n",
    "P_pass * \\\n",
    "p_x_given_y(test['guardian'][0], pass_guardian_mean, pass_guardian_variance) * \\\n",
    "p_x_given_y(test['failures'][0], pass_failures_mean, pass_failures_variance) * \\\n",
    "p_x_given_y(test['schoolsup'][0], pass_schoolsup_mean, pass_schoolsup_variance) * \\\n",
    "p_x_given_y(test['paid'][0], pass_paid_mean, pass_paid_variance) * \\\n",
    "p_x_given_y(test['higher'][0], pass_higher_mean, pass_higher_variance) * \\\n",
    "p_x_given_y(test['romantic'][0], pass_romantic_mean, pass_romantic_variance) * \\\n",
    "p_x_given_y(test['goout'][0], pass_goout_mean, pass_goout_variance) * \\\n",
    "p_x_given_y(test['age'][0], pass_age_mean, pass_age_variance)\n"
   ]
  },
  {
   "cell_type": "code",
   "execution_count": 41,
   "metadata": {
    "collapsed": false
   },
   "outputs": [
    {
     "data": {
      "text/plain": [
       "0.0001487282397439619"
      ]
     },
     "execution_count": 41,
     "metadata": {},
     "output_type": "execute_result"
    }
   ],
   "source": [
    "# Numerator of the posterior if the unclassified observation is a student that failed\n",
    "P_fail * \\\n",
    "p_x_given_y(test['guardian'][0], fail_guardian_mean, fail_guardian_variance) * \\\n",
    "p_x_given_y(test['failures'][0], fail_failures_mean, fail_failures_variance) * \\\n",
    "p_x_given_y(test['schoolsup'][0], fail_schoolsup_mean, fail_schoolsup_variance) * \\\n",
    "p_x_given_y(test['paid'][0], fail_paid_mean, fail_paid_variance) * \\\n",
    "p_x_given_y(test['higher'][0], fail_higher_mean, fail_higher_variance) * \\\n",
    "p_x_given_y(test['romantic'][0], fail_romantic_mean, fail_romantic_variance) * \\\n",
    "p_x_given_y(test['goout'][0], fail_goout_mean, fail_goout_variance) * \\\n",
    "p_x_given_y(test['age'][0], fail_age_mean, fail_age_variance)"
   ]
  },
  {
   "cell_type": "code",
   "execution_count": null,
   "metadata": {
    "collapsed": true
   },
   "outputs": [],
   "source": []
  }
 ],
 "metadata": {
  "kernelspec": {
   "display_name": "Python [default]",
   "language": "python",
   "name": "python3"
  },
  "language_info": {
   "codemirror_mode": {
    "name": "ipython",
    "version": 3
   },
   "file_extension": ".py",
   "mimetype": "text/x-python",
   "name": "python",
   "nbconvert_exporter": "python",
   "pygments_lexer": "ipython3",
   "version": "3.5.2"
  }
 },
 "nbformat": 4,
 "nbformat_minor": 2
}
