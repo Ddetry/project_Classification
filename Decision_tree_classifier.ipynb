{
 "cells": [
  {
   "cell_type": "code",
   "execution_count": 3,
   "metadata": {
    "collapsed": false
   },
   "outputs": [
    {
     "name": "stderr",
     "output_type": "stream",
     "text": [
      "/Users/damien/anaconda/lib/python3.5/site-packages/pandas/core/ops.py:792: FutureWarning: elementwise comparison failed; returning scalar instead, but in the future will perform elementwise comparison\n",
      "  result = getattr(x, name)(y)\n"
     ]
    },
    {
     "ename": "TypeError",
     "evalue": "invalid type comparison",
     "output_type": "error",
     "traceback": [
      "\u001b[0;31m---------------------------------------------------------------------------\u001b[0m",
      "\u001b[0;31mTypeError\u001b[0m                                 Traceback (most recent call last)",
      "\u001b[0;32m<ipython-input-3-610d664d4201>\u001b[0m in \u001b[0;36m<module>\u001b[0;34m()\u001b[0m\n\u001b[1;32m     11\u001b[0m \u001b[0mmy_db\u001b[0m \u001b[0;34m=\u001b[0m \u001b[0mpd\u001b[0m\u001b[0;34m.\u001b[0m\u001b[0mread_csv\u001b[0m\u001b[0;34m(\u001b[0m\u001b[0mpath\u001b[0m\u001b[0;34m,\u001b[0m \u001b[0msep\u001b[0m\u001b[0;34m=\u001b[0m\u001b[0;34m';'\u001b[0m\u001b[0;34m)\u001b[0m\u001b[0;34m\u001b[0m\u001b[0m\n\u001b[1;32m     12\u001b[0m \u001b[0;34m\u001b[0m\u001b[0m\n\u001b[0;32m---> 13\u001b[0;31m \u001b[0mmy_db\u001b[0m\u001b[0;34m.\u001b[0m\u001b[0mguardian\u001b[0m\u001b[0;34m[\u001b[0m\u001b[0mmy_db\u001b[0m\u001b[0;34m[\u001b[0m\u001b[0;34m\"guardian\"\u001b[0m\u001b[0;34m]\u001b[0m\u001b[0;34m==\u001b[0m\u001b[0;34m'other'\u001b[0m\u001b[0;34m]\u001b[0m \u001b[0;34m=\u001b[0m \u001b[0;36m2\u001b[0m\u001b[0;34m\u001b[0m\u001b[0m\n\u001b[0m\u001b[1;32m     14\u001b[0m \u001b[0mmy_db\u001b[0m\u001b[0;34m.\u001b[0m\u001b[0mguardian\u001b[0m\u001b[0;34m[\u001b[0m\u001b[0mmy_db\u001b[0m\u001b[0;34m[\u001b[0m\u001b[0;34m\"guardian\"\u001b[0m\u001b[0;34m]\u001b[0m\u001b[0;34m==\u001b[0m\u001b[0;34m'mother'\u001b[0m\u001b[0;34m]\u001b[0m \u001b[0;34m=\u001b[0m \u001b[0;36m1\u001b[0m\u001b[0;34m\u001b[0m\u001b[0m\n\u001b[1;32m     15\u001b[0m \u001b[0mmy_db\u001b[0m\u001b[0;34m.\u001b[0m\u001b[0mguardian\u001b[0m\u001b[0;34m[\u001b[0m\u001b[0mmy_db\u001b[0m\u001b[0;34m[\u001b[0m\u001b[0;34m\"guardian\"\u001b[0m\u001b[0;34m]\u001b[0m\u001b[0;34m==\u001b[0m\u001b[0;34m'father'\u001b[0m\u001b[0;34m]\u001b[0m \u001b[0;34m=\u001b[0m \u001b[0;36m0\u001b[0m\u001b[0;34m\u001b[0m\u001b[0m\n",
      "\u001b[0;32m/Users/damien/anaconda/lib/python3.5/site-packages/pandas/core/ops.py\u001b[0m in \u001b[0;36mwrapper\u001b[0;34m(self, other, axis)\u001b[0m\n\u001b[1;32m    853\u001b[0m \u001b[0;34m\u001b[0m\u001b[0m\n\u001b[1;32m    854\u001b[0m             \u001b[0;32mwith\u001b[0m \u001b[0mnp\u001b[0m\u001b[0;34m.\u001b[0m\u001b[0merrstate\u001b[0m\u001b[0;34m(\u001b[0m\u001b[0mall\u001b[0m\u001b[0;34m=\u001b[0m\u001b[0;34m'ignore'\u001b[0m\u001b[0;34m)\u001b[0m\u001b[0;34m:\u001b[0m\u001b[0;34m\u001b[0m\u001b[0m\n\u001b[0;32m--> 855\u001b[0;31m                 \u001b[0mres\u001b[0m \u001b[0;34m=\u001b[0m \u001b[0mna_op\u001b[0m\u001b[0;34m(\u001b[0m\u001b[0mvalues\u001b[0m\u001b[0;34m,\u001b[0m \u001b[0mother\u001b[0m\u001b[0;34m)\u001b[0m\u001b[0;34m\u001b[0m\u001b[0m\n\u001b[0m\u001b[1;32m    856\u001b[0m             \u001b[0;32mif\u001b[0m \u001b[0misscalar\u001b[0m\u001b[0;34m(\u001b[0m\u001b[0mres\u001b[0m\u001b[0;34m)\u001b[0m\u001b[0;34m:\u001b[0m\u001b[0;34m\u001b[0m\u001b[0m\n\u001b[1;32m    857\u001b[0m                 raise TypeError('Could not compare %s type with Series' %\n",
      "\u001b[0;32m/Users/damien/anaconda/lib/python3.5/site-packages/pandas/core/ops.py\u001b[0m in \u001b[0;36mna_op\u001b[0;34m(x, y)\u001b[0m\n\u001b[1;32m    792\u001b[0m                     \u001b[0mresult\u001b[0m \u001b[0;34m=\u001b[0m \u001b[0mgetattr\u001b[0m\u001b[0;34m(\u001b[0m\u001b[0mx\u001b[0m\u001b[0;34m,\u001b[0m \u001b[0mname\u001b[0m\u001b[0;34m)\u001b[0m\u001b[0;34m(\u001b[0m\u001b[0my\u001b[0m\u001b[0;34m)\u001b[0m\u001b[0;34m\u001b[0m\u001b[0m\n\u001b[1;32m    793\u001b[0m                 \u001b[0;32mif\u001b[0m \u001b[0mresult\u001b[0m \u001b[0;32mis\u001b[0m \u001b[0mNotImplemented\u001b[0m\u001b[0;34m:\u001b[0m\u001b[0;34m\u001b[0m\u001b[0m\n\u001b[0;32m--> 794\u001b[0;31m                     \u001b[0;32mraise\u001b[0m \u001b[0mTypeError\u001b[0m\u001b[0;34m(\u001b[0m\u001b[0;34m\"invalid type comparison\"\u001b[0m\u001b[0;34m)\u001b[0m\u001b[0;34m\u001b[0m\u001b[0m\n\u001b[0m\u001b[1;32m    795\u001b[0m             \u001b[0;32mexcept\u001b[0m \u001b[0mAttributeError\u001b[0m\u001b[0;34m:\u001b[0m\u001b[0;34m\u001b[0m\u001b[0m\n\u001b[1;32m    796\u001b[0m                 \u001b[0mresult\u001b[0m \u001b[0;34m=\u001b[0m \u001b[0mop\u001b[0m\u001b[0;34m(\u001b[0m\u001b[0mx\u001b[0m\u001b[0;34m,\u001b[0m \u001b[0my\u001b[0m\u001b[0;34m)\u001b[0m\u001b[0;34m\u001b[0m\u001b[0m\n",
      "\u001b[0;31mTypeError\u001b[0m: invalid type comparison"
     ]
    }
   ],
   "source": [
    "from __future__ import print_function\n",
    "\n",
    "import os\n",
    "import subprocess\n",
    "\n",
    "import pandas as pd\n",
    "import numpy as np\n",
    "from sklearn.tree import DecisionTreeClassifier, export_graphviz\n",
    "\n",
    "path = '/Users/damien/Documents/Sinf/2eme_bis/2eme_quadri/QDA/project_Classification/Select.csv'\n",
    "my_db = pd.read_csv(path, sep=';')\n",
    "\n",
    "my_db.guardian[my_db[\"guardian\"]=='other'] = 2\n",
    "my_db.guardian[my_db[\"guardian\"]=='mother'] = 1\n",
    "my_db.guardian[my_db[\"guardian\"]=='father'] = 0\n",
    "\n",
    "my_db.schoolsup[my_db[\"schoolsup\"]=='yes'] = 1\n",
    "my_db.schoolsup[my_db[\"schoolsup\"]=='no'] = 0\n",
    "\n",
    "my_db.paid[my_db[\"paid\"]=='yes'] = 1\n",
    "my_db.paid[my_db[\"paid\"]=='no'] = 0\n",
    "\n",
    "my_db.higher[my_db[\"higher\"]=='yes'] = 1\n",
    "my_db.higher[my_db[\"higher\"]=='no'] = 0\n",
    "\n",
    "my_db.romantic[my_db[\"romantic\"]=='yes'] = 1\n",
    "my_db.romantic[my_db[\"romantic\"]=='no'] = 0\n",
    "\n",
    "my_db.Passed[my_db[\"Passed\"]== 1] = 'pass'\n",
    "my_db.Passed[my_db[\"Passed\"]== 0] = 'fail'\n",
    "\n",
    "\n",
    "my_db\n"
   ]
  },
  {
   "cell_type": "code",
   "execution_count": null,
   "metadata": {
    "collapsed": true
   },
   "outputs": [],
   "source": [
    "def encode_target(df, target_column):\n",
    "    df_mod = df.copy()\n",
    "    targets = df_mod[target_column].unique()\n",
    "    map_to_int = {name: n for n, name in enumerate(targets)}\n",
    "    df_mod[\"Target\"] = df_mod[target_column].replace(map_to_int)\n",
    "    return (df_mod, targets)"
   ]
  },
  {
   "cell_type": "code",
   "execution_count": null,
   "metadata": {
    "collapsed": false
   },
   "outputs": [],
   "source": [
    "df2, targets = encode_target(my_db, \"Passed\")"
   ]
  },
  {
   "cell_type": "code",
   "execution_count": null,
   "metadata": {
    "collapsed": false
   },
   "outputs": [],
   "source": [
    "features = list(df2.columns[:8])"
   ]
  },
  {
   "cell_type": "code",
   "execution_count": null,
   "metadata": {
    "collapsed": false
   },
   "outputs": [],
   "source": [
    "y = df2[\"Target\"]\n",
    "X = df2[features]\n",
    "dt = DecisionTreeClassifier(min_samples_split=20, random_state=99)\n",
    "dt.fit(X, y)"
   ]
  },
  {
   "cell_type": "code",
   "execution_count": null,
   "metadata": {
    "collapsed": true
   },
   "outputs": [],
   "source": [
    "def visualize_tree(tree, feature_names):\n",
    "    with open(\"dt.dot\", 'w') as f:\n",
    "        export_graphviz(tree, out_file=f,\n",
    "                        feature_names=feature_names)\n",
    "\n",
    "    command = [\"dot\", \"-Tpng\", \"dt.dot\", \"-o\", \"dt.png\"]\n",
    "    try:\n",
    "        subprocess.check_call(command)\n",
    "    except:\n",
    "        exit(\"Could not run dot, ie graphviz, to \"\n",
    "             \"produce visualization\")"
   ]
  },
  {
   "cell_type": "code",
   "execution_count": null,
   "metadata": {
    "collapsed": true
   },
   "outputs": [],
   "source": [
    "visualize_tree(dt, features)"
   ]
  },
  {
   "cell_type": "code",
   "execution_count": 6,
   "metadata": {
    "collapsed": false
   },
   "outputs": [
    {
     "name": "stdout",
     "output_type": "stream",
     "text": [
      "['fail' 'pass' 'pass' 'fail' 'pass' 'fail' 'pass' 'pass' 'pass' 'pass'\n",
      " 'pass' 'pass' 'fail' 'pass' 'fail' 'fail' 'pass' 'pass' 'pass' 'pass'\n",
      " 'pass' 'fail' 'fail' 'pass' 'pass' 'fail' 'fail' 'pass' 'pass' 'pass'\n",
      " 'pass' 'pass' 'pass' 'pass' 'pass' 'pass' 'pass' 'pass' 'fail' 'pass'\n",
      " 'pass' 'fail' 'pass' 'pass' 'fail' 'pass' 'pass' 'pass' 'fail' 'pass'\n",
      " 'pass' 'pass' 'pass' 'pass' 'pass' 'pass' 'pass' 'fail' 'pass' 'pass'\n",
      " 'fail' 'fail' 'pass' 'pass' 'fail' 'pass' 'pass' 'fail' 'pass' 'pass'\n",
      " 'pass' 'fail' 'pass' 'pass' 'pass' 'pass' 'fail' 'pass' 'fail']\n",
      "['pass' 'pass' 'pass' 'pass' 'fail' 'pass' 'pass' 'fail' 'pass' 'fail'\n",
      " 'pass' 'fail' 'pass' 'pass' 'fail' 'pass' 'pass' 'pass' 'pass' 'pass'\n",
      " 'pass' 'fail' 'pass' 'fail' 'pass' 'fail' 'pass' 'pass' 'pass' 'pass'\n",
      " 'pass' 'pass' 'pass' 'pass' 'pass' 'fail' 'pass' 'fail' 'pass' 'pass'\n",
      " 'fail' 'pass' 'fail' 'pass' 'pass' 'pass' 'fail' 'pass' 'pass' 'fail'\n",
      " 'pass' 'fail' 'pass' 'pass' 'pass' 'pass' 'pass' 'fail' 'pass' 'pass'\n",
      " 'fail' 'pass' 'pass' 'pass' 'fail' 'fail' 'pass' 'pass' 'fail' 'pass'\n",
      " 'pass' 'pass' 'pass' 'fail' 'fail' 'fail' 'pass' 'fail' 'fail']\n"
     ]
    }
   ],
   "source": [
    "from sklearn.ensemble import RandomForestClassifier\n",
    "from sklearn import cross_validation\n",
    "X = np.array(my_db.drop(['Passed'],1))\n",
    "Y = np.array(my_db['Passed'])\n",
    "\n",
    "#separate the data to create train set and test set\n",
    "X_train, X_test, Y_train, Y_test = cross_validation.train_test_split(X,Y,test_size = 0.2)\n",
    "clf = RandomForestClassifier(n_estimators = 5, criterion='gini',random_state=None)\n",
    "clf.fit(X_train,Y_train)\n",
    "predictions = clf.predict(X_test)\n",
    "print(predictions)\n",
    "print(Y_test)"
   ]
  },
  {
   "cell_type": "code",
   "execution_count": 7,
   "metadata": {
    "collapsed": false
   },
   "outputs": [
    {
     "name": "stdout",
     "output_type": "stream",
     "text": [
      "0.582278481013\n"
     ]
    }
   ],
   "source": [
    "accuracy = clf.score(X_test, Y_test)\n",
    "print(accuracy)"
   ]
  },
  {
   "cell_type": "code",
   "execution_count": 12,
   "metadata": {
    "collapsed": false
   },
   "outputs": [
    {
     "name": "stdout",
     "output_type": "stream",
     "text": [
      "['fail' 'pass' 'pass' 'fail' 'fail' 'pass' 'fail' 'pass' 'fail' 'fail'\n",
      " 'fail' 'pass' 'fail' 'fail' 'pass' 'pass' 'pass' 'pass' 'pass' 'pass'\n",
      " 'pass' 'pass' 'fail' 'pass' 'pass' 'fail' 'fail' 'pass' 'pass' 'fail'\n",
      " 'pass' 'pass' 'pass' 'pass' 'pass' 'pass' 'pass' 'pass' 'pass' 'fail'\n",
      " 'pass' 'pass' 'pass' 'pass' 'fail' 'pass' 'pass' 'fail' 'pass' 'fail'\n",
      " 'pass' 'pass' 'fail' 'fail' 'pass' 'pass' 'pass' 'fail' 'pass' 'pass'\n",
      " 'pass' 'pass' 'fail' 'fail' 'pass' 'pass' 'pass' 'pass' 'pass' 'pass'\n",
      " 'fail' 'pass' 'pass' 'pass' 'fail' 'pass' 'pass' 'pass' 'pass']\n",
      "['fail' 'pass' 'pass' 'fail' 'fail' 'pass' 'fail' 'pass' 'fail' 'fail'\n",
      " 'fail' 'pass' 'fail' 'fail' 'pass' 'pass' 'pass' 'pass' 'pass' 'pass'\n",
      " 'pass' 'pass' 'fail' 'pass' 'pass' 'fail' 'fail' 'pass' 'pass' 'fail'\n",
      " 'pass' 'pass' 'pass' 'pass' 'pass' 'pass' 'pass' 'pass' 'pass' 'fail'\n",
      " 'pass' 'pass' 'pass' 'pass' 'fail' 'pass' 'pass' 'fail' 'pass' 'fail'\n",
      " 'pass' 'pass' 'fail' 'pass' 'pass' 'pass' 'pass' 'fail' 'pass' 'pass'\n",
      " 'pass' 'pass' 'fail' 'fail' 'pass' 'pass' 'pass' 'pass' 'pass' 'pass'\n",
      " 'fail' 'pass' 'pass' 'pass' 'fail' 'pass' 'pass' 'pass' 'pass']\n"
     ]
    }
   ],
   "source": [
    "path = '/Users/damien/Documents/Sinf/2eme_bis/2eme_quadri/QDA/project_Classification/Select2.csv'\n",
    "my_db2 = pd.read_csv(path, sep=';')\n",
    "\n",
    "from sklearn.ensemble import RandomForestClassifier\n",
    "from sklearn import cross_validation\n",
    "X = np.array(my_db2.drop(['Passed'],1))\n",
    "Y = np.array(my_db2['Passed'])\n",
    "\n",
    "#separate the data to create train set and test set\n",
    "X_train, X_test, Y_train, Y_test = cross_validation.train_test_split(X,Y,test_size = 0.2)\n",
    "clf = RandomForestClassifier(n_estimators = 5, criterion='gini',random_state=None)\n",
    "clf.fit(X_train,Y_train)\n",
    "predictions = clf.predict(X_test)\n",
    "print(predictions)\n",
    "print(Y_test)\n"
   ]
  },
  {
   "cell_type": "code",
   "execution_count": 13,
   "metadata": {
    "collapsed": false
   },
   "outputs": [
    {
     "name": "stdout",
     "output_type": "stream",
     "text": [
      "0.987341772152\n"
     ]
    }
   ],
   "source": [
    "accuracy2 = clf.score(X_test, Y_test)\n",
    "print(accuracy2)"
   ]
  },
  {
   "cell_type": "code",
   "execution_count": null,
   "metadata": {
    "collapsed": true
   },
   "outputs": [],
   "source": []
  }
 ],
 "metadata": {
  "kernelspec": {
   "display_name": "Python [default]",
   "language": "python",
   "name": "python3"
  },
  "language_info": {
   "codemirror_mode": {
    "name": "ipython",
    "version": 3
   },
   "file_extension": ".py",
   "mimetype": "text/x-python",
   "name": "python",
   "nbconvert_exporter": "python",
   "pygments_lexer": "ipython3",
   "version": "3.5.2"
  }
 },
 "nbformat": 4,
 "nbformat_minor": 2
}
