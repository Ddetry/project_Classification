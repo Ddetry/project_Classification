{
 "cells": [
  {
   "cell_type": "code",
   "execution_count": 21,
   "metadata": {
    "collapsed": false
   },
   "outputs": [],
   "source": [
    "%matplotlib inline\n",
    "import pandas as pd\n",
    "import numpy as np \n",
    "import sklearn\n",
    "import matplotlib.pyplot as plt\n",
    "import scipy.stats as stats\n",
    "from sklearn.linear_model import LinearRegression \n",
    "from sklearn.linear_model import LogisticRegression \n",
    "\n",
    "path = '/Users/damien/Documents/Sinf/2eme_bis/2eme_quadri/QDA/project_Classification/Select2.csv'\n",
    "my_db = pd.read_csv(path, sep=';')\n"
   ]
  },
  {
   "cell_type": "code",
   "execution_count": 22,
   "metadata": {
    "collapsed": false
   },
   "outputs": [
    {
     "data": {
      "text/plain": [
       "Index(['school', 'sex', 'age', 'address', 'famsize', 'Pstatus', 'Medu', 'fedu',\n",
       "       'Mjob', 'fjob', 'reason', 'guardian', 'traveltime', 'studytime',\n",
       "       '0ures', 'schoolsup', 'famsup', 'paid', 'activities', 'nursery',\n",
       "       'higher', 'internet', 'romantic', 'famrel', 'freetime', 'goout', 'Dalc',\n",
       "       'Walc', 'health', 'absences', 'G1', 'G2', 'G3', 'Passed'],\n",
       "      dtype='object')"
      ]
     },
     "execution_count": 22,
     "metadata": {},
     "output_type": "execute_result"
    }
   ],
   "source": [
    "my_db.keys()"
   ]
  },
  {
   "cell_type": "code",
   "execution_count": 23,
   "metadata": {
    "collapsed": false
   },
   "outputs": [
    {
     "data": {
      "text/plain": [
       "LinearRegression(copy_X=True, fit_intercept=True, n_jobs=1, normalize=False)"
      ]
     },
     "execution_count": 23,
     "metadata": {},
     "output_type": "execute_result"
    }
   ],
   "source": [
    "X = my_db.drop('Passed', axis=1)\n",
    "lm = LinearRegression()\n",
    "lm\n"
   ]
  },
  {
   "cell_type": "code",
   "execution_count": 24,
   "metadata": {
    "collapsed": false
   },
   "outputs": [
    {
     "data": {
      "image/png": "[encoded data removed]",
      "text/plain": [
       "<matplotlib.figure.Figure at 0x1128f8ac8>"
      ]
     },
     "metadata": {},
     "output_type": "display_data"
    }
   ],
   "source": [
    "plt.scatter(my_db.age, my_db.Medu)\n",
    "plt.show()"
   ]
  },
  {
   "cell_type": "code",
   "execution_count": 25,
   "metadata": {
    "collapsed": false
   },
   "outputs": [
    {
     "name": "stdout",
     "output_type": "stream",
     "text": [
      "(264, 33)\n",
      "(264,)\n",
      "(131, 33)\n",
      "(131,)\n"
     ]
    }
   ],
   "source": [
    "from sklearn import cross_validation\n",
    "X_train, X_test, Y_train, Y_test = sklearn.cross_validation.train_test_split(X, my_db.Passed,test_size=0.33,random_state=5)\n",
    "print (X_train.shape)\n",
    "print (Y_train.shape)\n",
    "print (X_test.shape)\n",
    "print (Y_test.shape)"
   ]
  },
  {
   "cell_type": "code",
   "execution_count": 26,
   "metadata": {
    "collapsed": false
   },
   "outputs": [],
   "source": [
    "lm = LinearRegression()\n",
    "lm.fit(X_train, Y_train)\n",
    "pred_train = lm.predict(X_train)\n",
    "pred_test = lm.predict(X_test)"
   ]
  },
  {
   "cell_type": "code",
   "execution_count": 27,
   "metadata": {
    "collapsed": false
   },
   "outputs": [
    {
     "name": "stdout",
     "output_type": "stream",
     "text": [
      "[1 1 0 0 1 1 1 1 0 0 0 1 0 1 0 1 1 0 1 1 1 1 1 0 1 1 1 0 1 1 0 1 1 1 1 1 1\n",
      " 1 0 1 0 1 1 1 1 1 1 1 1 1 1 1 1 1 1 1 0 0 1 1 1 1 1 1 1 1 1 1 0 1 1 0 0 1\n",
      " 1 1 1 1 1]\n",
      "[1 1 0 0 1 1 1 1 0 0 0 1 0 1 0 1 1 0 1 1 0 1 1 0 1 1 1 0 1 1 0 1 1 1 1 1 1\n",
      " 1 0 1 0 1 1 0 1 1 1 1 1 1 1 1 1 1 1 1 0 0 1 1 1 1 1 1 1 1 1 0 0 1 1 0 0 1\n",
      " 1 1 0 1 1]\n"
     ]
    }
   ],
   "source": [
    "X = np.array(my_db.drop(['Passed'],1))\n",
    "Y = np.array(my_db['Passed'])\n",
    "X_train, X_test, Y_train, Y_test = cross_validation.train_test_split(X,Y,test_size = 0.2)\n",
    "clf = LogisticRegression()\n",
    "clf.fit(X_train,Y_train)\n",
    "prediction = clf.predict(X_test)\n",
    "print(prediction)\n",
    "print(Y_test)"
   ]
  },
  {
   "cell_type": "code",
   "execution_count": 28,
   "metadata": {
    "collapsed": false
   },
   "outputs": [
    {
     "name": "stdout",
     "output_type": "stream",
     "text": [
      "[[  9.99992432e-01   7.56781769e-06]\n",
      " [  9.99537277e-01   4.62722780e-04]\n",
      " [  2.00740052e-02   9.79925995e-01]\n",
      " [  5.86242402e-08   9.99999941e-01]\n",
      " [  4.21681683e-02   9.57831832e-01]\n",
      " [  3.17842394e-08   9.99999968e-01]\n",
      " [  4.70941243e-04   9.99529059e-01]\n",
      " [  9.99956455e-01   4.35454298e-05]\n",
      " [  1.77635684e-15   1.00000000e+00]\n",
      " [  6.03000028e-09   9.99999994e-01]\n",
      " [  3.56200114e-01   6.43799886e-01]\n",
      " [  2.66237180e-05   9.99973376e-01]\n",
      " [  4.81531531e-08   9.99999952e-01]\n",
      " [  6.13726123e-04   9.99386274e-01]\n",
      " [  1.99917860e-11   1.00000000e+00]\n",
      " [  1.90881406e-07   9.99999809e-01]\n",
      " [  6.00959867e-07   9.99999399e-01]\n",
      " [  1.67748221e-01   8.32251779e-01]\n",
      " [  9.99999535e-01   4.64681079e-07]\n",
      " [  4.17197476e-02   9.58280252e-01]\n",
      " [  2.99702174e-09   9.99999997e-01]\n",
      " [  5.08291564e-09   9.99999995e-01]\n",
      " [  1.67115077e-09   9.99999998e-01]\n",
      " [  3.63735595e-05   9.99963626e-01]\n",
      " [  9.44714218e-01   5.52857819e-02]\n",
      " [  9.82624316e-01   1.73756840e-02]\n",
      " [  1.12746467e-04   9.99887254e-01]\n",
      " [  4.45161685e-10   1.00000000e+00]\n",
      " [  5.48878315e-03   9.94511217e-01]\n",
      " [  2.34418973e-02   9.76558103e-01]\n",
      " [  4.80468035e-05   9.99951953e-01]\n",
      " [  7.76316789e-11   1.00000000e+00]\n",
      " [  1.42726431e-09   9.99999999e-01]\n",
      " [  9.11488869e-06   9.99990885e-01]\n",
      " [  6.85905244e-09   9.99999993e-01]\n",
      " [  9.99786402e-01   2.13597599e-04]\n",
      " [  3.65196762e-12   1.00000000e+00]\n",
      " [  1.86734175e-07   9.99999813e-01]\n",
      " [  2.86270573e-03   9.97137294e-01]\n",
      " [  3.57287499e-07   9.99999643e-01]\n",
      " [  9.78467871e-03   9.90215321e-01]\n",
      " [  1.25200019e-05   9.99987480e-01]\n",
      " [  8.20898904e-13   1.00000000e+00]\n",
      " [  8.27909844e-05   9.99917209e-01]\n",
      " [  6.75172506e-01   3.24827494e-01]\n",
      " [  9.99626109e-01   3.73890616e-04]\n",
      " [  6.30896351e-04   9.99369104e-01]\n",
      " [  9.76996262e-15   1.00000000e+00]\n",
      " [  1.50889931e-07   9.99999849e-01]\n",
      " [  9.97981152e-01   2.01884768e-03]\n",
      " [  2.77011854e-06   9.99997230e-01]\n",
      " [  8.00805191e-06   9.99991992e-01]\n",
      " [  5.56472309e-03   9.94435277e-01]\n",
      " [  3.55017490e-03   9.96449825e-01]\n",
      " [  6.55392242e-08   9.99999934e-01]\n",
      " [  8.60535443e-03   9.91394646e-01]\n",
      " [  9.33202626e-10   9.99999999e-01]\n",
      " [  5.85639696e-08   9.99999941e-01]\n",
      " [  1.47169703e-01   8.52830297e-01]\n",
      " [  1.61427760e-09   9.99999998e-01]\n",
      " [  3.53499726e-02   9.64650027e-01]\n",
      " [  4.07447027e-03   9.95925530e-01]\n",
      " [  9.39278842e-02   9.06072116e-01]\n",
      " [  8.79413475e-01   1.20586525e-01]\n",
      " [  6.45589297e-03   9.93544107e-01]\n",
      " [  6.82890144e-09   9.99999993e-01]\n",
      " [  1.42851776e-04   9.99857148e-01]\n",
      " [  9.99952458e-01   4.75424042e-05]\n",
      " [  6.90734361e-01   3.09265639e-01]\n",
      " [  7.30953076e-11   1.00000000e+00]\n",
      " [  2.12991429e-08   9.99999979e-01]\n",
      " [  2.24738541e-02   9.77526146e-01]\n",
      " [  9.99980636e-01   1.93636779e-05]\n",
      " [  2.98299499e-07   9.99999702e-01]\n",
      " [  1.32704988e-02   9.86729501e-01]\n",
      " [  7.49976338e-02   9.25002366e-01]\n",
      " [  1.63496267e-02   9.83650373e-01]\n",
      " [  4.05889331e-04   9.99594111e-01]\n",
      " [  4.00571132e-01   5.99428868e-01]\n",
      " [  9.99997554e-01   2.44575186e-06]\n",
      " [  3.54479246e-06   9.99996455e-01]\n",
      " [  4.17726717e-04   9.99582273e-01]\n",
      " [  9.99883959e-01   1.16041058e-04]\n",
      " [  5.24438049e-10   9.99999999e-01]\n",
      " [  1.52271757e-03   9.98477282e-01]\n",
      " [  9.68118934e-01   3.18810656e-02]\n",
      " [  9.98663087e-01   1.33691332e-03]\n",
      " [  1.34253215e-08   9.99999987e-01]\n",
      " [  2.32514900e-02   9.76748510e-01]\n",
      " [  9.99124219e-01   8.75780967e-04]\n",
      " [  9.63569911e-01   3.64300886e-02]\n",
      " [  9.23705556e-14   1.00000000e+00]\n",
      " [  9.99624228e-01   3.75771978e-04]\n",
      " [  2.24137846e-02   9.77586215e-01]\n",
      " [  3.28600402e-07   9.99999671e-01]\n",
      " [  7.63119417e-03   9.92368806e-01]\n",
      " [  7.18557241e-08   9.99999928e-01]\n",
      " [  6.77853815e-02   9.32214619e-01]\n",
      " [  3.91897812e-08   9.99999961e-01]\n",
      " [  9.55069525e-01   4.49304746e-02]\n",
      " [  9.99998408e-01   1.59150608e-06]\n",
      " [  1.63439484e-10   1.00000000e+00]\n",
      " [  1.83494844e-07   9.99999817e-01]\n",
      " [  9.99756677e-01   2.43322970e-04]\n",
      " [  3.73034936e-14   1.00000000e+00]\n",
      " [  9.97418942e-04   9.99002581e-01]\n",
      " [  7.75434621e-01   2.24565379e-01]\n",
      " [  2.49400500e-12   1.00000000e+00]\n",
      " [  3.56383975e-06   9.99996436e-01]\n",
      " [  8.62327754e-09   9.99999991e-01]\n",
      " [  1.59872116e-14   1.00000000e+00]\n",
      " [  7.70153468e-02   9.22984653e-01]\n",
      " [  2.42804573e-05   9.99975720e-01]\n",
      " [  2.99760217e-14   1.00000000e+00]\n",
      " [  2.88841629e-01   7.11158371e-01]\n",
      " [  1.58526992e-09   9.99999998e-01]\n",
      " [  8.83803022e-08   9.99999912e-01]\n",
      " [  2.11274256e-06   9.99997887e-01]\n",
      " [  9.69455130e-01   3.05448699e-02]\n",
      " [  8.24409320e-07   9.99999176e-01]\n",
      " [  7.91129384e-11   1.00000000e+00]\n",
      " [  3.82963550e-09   9.99999996e-01]\n",
      " [  4.40783173e-06   9.99995592e-01]\n",
      " [  3.56546760e-05   9.99964345e-01]\n",
      " [  9.53808827e-01   4.61911728e-02]\n",
      " [  2.78760794e-05   9.99972124e-01]\n",
      " [  2.29876031e-04   9.99770124e-01]\n",
      " [  9.68931115e-01   3.10688852e-02]\n",
      " [  1.00000000e+00   2.12399281e-13]\n",
      " [  1.16462395e-12   1.00000000e+00]\n",
      " [  1.00000000e+00   1.24866490e-12]\n",
      " [  1.00000000e+00   3.74133247e-11]\n",
      " [  1.94830195e-04   9.99805170e-01]\n",
      " [  5.25863638e-04   9.99474136e-01]\n",
      " [  1.00000000e+00   4.05991673e-12]\n",
      " [  1.00000000e+00   5.62201791e-13]\n",
      " [  1.00000000e+00   1.22749105e-12]\n",
      " [  1.00000000e+00   1.79046768e-12]\n",
      " [  3.90484729e-05   9.99960952e-01]\n",
      " [  1.10795991e-08   9.99999989e-01]\n",
      " [  1.00000000e+00   1.35276822e-11]\n",
      " [  6.11424762e-01   3.88575238e-01]\n",
      " [  7.39627966e-03   9.92603720e-01]\n",
      " [  1.54580404e-07   9.99999845e-01]\n",
      " [  1.00000000e+00   4.04273094e-13]\n",
      " [  1.04177606e-04   9.99895822e-01]\n",
      " [  1.00000000e+00   1.75551701e-11]\n",
      " [  1.85254198e-04   9.99814746e-01]\n",
      " [  1.00000000e+00   1.63639135e-12]\n",
      " [  8.22720092e-03   9.91772799e-01]\n",
      " [  1.00000000e+00   1.97663094e-12]\n",
      " [  1.32808185e-07   9.99999867e-01]\n",
      " [  1.63522175e-02   9.83647782e-01]\n",
      " [  1.00000000e+00   6.81852495e-15]\n",
      " [  1.47828375e-03   9.98521716e-01]\n",
      " [  3.86122254e-01   6.13877746e-01]\n",
      " [  2.26077051e-05   9.99977392e-01]\n",
      " [  1.12034233e-01   8.87965767e-01]\n",
      " [  5.77703219e-10   9.99999999e-01]\n",
      " [  2.07604067e-04   9.99792396e-01]\n",
      " [  1.00000000e+00   2.47547627e-12]\n",
      " [  9.82307541e-01   1.76924585e-02]\n",
      " [  1.00000000e+00   5.35953062e-12]\n",
      " [  5.11453150e-04   9.99488547e-01]\n",
      " [  9.96852633e-01   3.14736711e-03]\n",
      " [  7.63143509e-05   9.99923686e-01]\n",
      " [  2.56899333e-03   9.97431007e-01]\n",
      " [  4.73494799e-10   1.00000000e+00]\n",
      " [  1.00000000e+00   8.62615337e-11]\n",
      " [  7.61751571e-07   9.99999238e-01]\n",
      " [  1.00000000e+00   2.24090233e-11]\n",
      " [  2.61561661e-10   1.00000000e+00]\n",
      " [  3.42832789e-01   6.57167211e-01]\n",
      " [  1.00000000e+00   1.64953132e-11]\n",
      " [  6.03322933e-01   3.96677067e-01]\n",
      " [  9.21713631e-01   7.82863694e-02]\n",
      " [  6.50161082e-04   9.99349839e-01]\n",
      " [  9.99873837e-01   1.26162674e-04]\n",
      " [  6.95962121e-01   3.04037879e-01]\n",
      " [  7.09347526e-03   9.92906525e-01]\n",
      " [  9.85429501e-01   1.45704994e-02]\n",
      " [  4.00989988e-05   9.99959901e-01]\n",
      " [  9.25417520e-11   1.00000000e+00]\n",
      " [  9.87230261e-01   1.27697394e-02]\n",
      " [  5.92740349e-05   9.99940726e-01]\n",
      " [  1.85848408e-02   9.81415159e-01]\n",
      " [  6.53982707e-04   9.99346017e-01]\n",
      " [  4.44287007e-09   9.99999996e-01]\n",
      " [  8.18311722e-01   1.81688278e-01]\n",
      " [  7.36185459e-03   9.92638145e-01]\n",
      " [  2.63926264e-06   9.99997361e-01]\n",
      " [  3.39696878e-01   6.60303122e-01]\n",
      " [  9.18704334e-01   8.12956660e-02]\n",
      " [  1.02160475e-01   8.97839525e-01]\n",
      " [  2.21675140e-08   9.99999978e-01]\n",
      " [  7.66098870e-08   9.99999923e-01]\n",
      " [  2.11507967e-09   9.99999998e-01]\n",
      " [  3.48747007e-02   9.65125299e-01]\n",
      " [  6.75282052e-12   1.00000000e+00]\n",
      " [  1.28521862e-01   8.71478138e-01]\n",
      " [  1.35978118e-10   1.00000000e+00]\n",
      " [  5.22224567e-02   9.47777543e-01]\n",
      " [  4.71515236e-03   9.95284848e-01]\n",
      " [  9.99857383e-01   1.42616768e-04]\n",
      " [  8.61302291e-03   9.91386977e-01]\n",
      " [  9.70610994e-01   2.93890058e-02]\n",
      " [  9.99492709e-01   5.07290605e-04]\n",
      " [  6.58967436e-05   9.99934103e-01]\n",
      " [  6.20893847e-03   9.93791062e-01]\n",
      " [  9.99967227e-01   3.27733921e-05]\n",
      " [  9.98856317e-01   1.14368318e-03]\n",
      " [  2.30782273e-05   9.99976922e-01]\n",
      " [  3.36954290e-07   9.99999663e-01]\n",
      " [  9.98717312e-01   1.28268766e-03]\n",
      " [  1.16563503e-01   8.83436497e-01]\n",
      " [  4.11138057e-09   9.99999996e-01]\n",
      " [  9.99999911e-01   8.94838970e-08]\n",
      " [  9.98170343e-01   1.82965736e-03]\n",
      " [  8.89017634e-01   1.10982366e-01]\n",
      " [  1.59785945e-01   8.40214055e-01]\n",
      " [  9.99967284e-01   3.27162824e-05]\n",
      " [  1.00000000e+00   7.44017278e-13]\n",
      " [  1.07548415e-10   1.00000000e+00]\n",
      " [  5.46777005e-05   9.99945322e-01]\n",
      " [  2.77690306e-06   9.99997223e-01]\n",
      " [  9.99895966e-01   1.04033726e-04]\n",
      " [  5.26386068e-09   9.99999995e-01]\n",
      " [  2.75235077e-05   9.99972476e-01]\n",
      " [  9.19396322e-01   8.06036784e-02]\n",
      " [  3.58401717e-04   9.99641598e-01]\n",
      " [  3.78592904e-06   9.99996214e-01]\n",
      " [  8.18782497e-04   9.99181218e-01]\n",
      " [  9.32385877e-01   6.76141231e-02]\n",
      " [  7.93226130e-07   9.99999207e-01]\n",
      " [  9.99899680e-01   1.00320221e-04]\n",
      " [  1.41006930e-02   9.85899307e-01]\n",
      " [  4.27221376e-06   9.99995728e-01]\n",
      " [  1.61608345e-04   9.99838392e-01]\n",
      " [  5.05754642e-03   9.94942454e-01]\n",
      " [  1.00000000e+00   4.60121644e-11]\n",
      " [  4.07115805e-03   9.95928842e-01]\n",
      " [  1.05298614e-03   9.98947014e-01]\n",
      " [  1.00000000e+00   2.63444034e-12]\n",
      " [  9.66682885e-05   9.99903332e-01]\n",
      " [  1.00000000e+00   8.02604059e-13]\n",
      " [  4.04787315e-13   1.00000000e+00]\n",
      " [  1.23501060e-06   9.99998765e-01]\n",
      " [  9.99954555e-01   4.54449736e-05]\n",
      " [  9.99999813e-01   1.87138057e-07]\n",
      " [  7.08794579e-10   9.99999999e-01]\n",
      " [  9.93530262e-01   6.46973829e-03]\n",
      " [  2.84451015e-03   9.97155490e-01]\n",
      " [  9.79209026e-01   2.07909742e-02]\n",
      " [  5.25816782e-01   4.74183218e-01]\n",
      " [  4.12398336e-05   9.99958760e-01]\n",
      " [  9.84618489e-01   1.53815105e-02]\n",
      " [  2.81553339e-04   9.99718447e-01]\n",
      " [  5.06671266e-02   9.49332873e-01]\n",
      " [  7.34477851e-07   9.99999266e-01]\n",
      " [  1.00000000e+00   1.55061369e-11]\n",
      " [  9.77462555e-12   1.00000000e+00]\n",
      " [  9.96957222e-01   3.04277806e-03]\n",
      " [  4.14479687e-04   9.99585520e-01]\n",
      " [  9.09519987e-01   9.04800125e-02]\n",
      " [  1.00000000e+00   4.82700295e-12]\n",
      " [  5.64961411e-11   1.00000000e+00]\n",
      " [  2.03093641e-01   7.96906359e-01]\n",
      " [  2.53968422e-01   7.46031578e-01]\n",
      " [  5.87476291e-01   4.12523709e-01]\n",
      " [  1.00000000e+00   4.43630339e-13]\n",
      " [  9.94604531e-01   5.39546940e-03]\n",
      " [  1.36976015e-06   9.99998630e-01]\n",
      " [  6.36377071e-03   9.93636229e-01]\n",
      " [  1.04203371e-07   9.99999896e-01]\n",
      " [  4.80378606e-02   9.51962139e-01]\n",
      " [  9.35073429e-04   9.99064927e-01]\n",
      " [  9.82105969e-01   1.78940306e-02]\n",
      " [  9.49092007e-01   5.09079934e-02]\n",
      " [  9.99954192e-01   4.58083245e-05]\n",
      " [  1.22386518e-01   8.77613482e-01]\n",
      " [  9.90595327e-01   9.40467303e-03]\n",
      " [  1.02285369e-01   8.97714631e-01]\n",
      " [  5.10661252e-04   9.99489339e-01]\n",
      " [  4.20454177e-01   5.79545823e-01]\n",
      " [  6.70721698e-03   9.93292783e-01]\n",
      " [  6.36939548e-04   9.99363060e-01]\n",
      " [  3.17079696e-13   1.00000000e+00]\n",
      " [  1.66084277e-04   9.99833916e-01]\n",
      " [  4.03984088e-07   9.99999596e-01]\n",
      " [  2.68971947e-07   9.99999731e-01]\n",
      " [  6.97263873e-02   9.30273613e-01]\n",
      " [  6.29497778e-08   9.99999937e-01]\n",
      " [  3.04963236e-04   9.99695037e-01]\n",
      " [  1.09221521e-11   1.00000000e+00]\n",
      " [  1.10986323e-05   9.99988901e-01]\n",
      " [  4.31204826e-03   9.95687952e-01]\n",
      " [  1.00000000e+00   5.47013650e-13]\n",
      " [  9.88886303e-01   1.11136966e-02]\n",
      " [  7.72618295e-06   9.99992274e-01]\n",
      " [  3.45991807e-08   9.99999965e-01]\n",
      " [  1.64375651e-01   8.35624349e-01]\n",
      " [  7.06303081e-02   9.29369692e-01]\n",
      " [  2.87047356e-06   9.99997130e-01]\n",
      " [  6.99307279e-12   1.00000000e+00]\n",
      " [  2.78700372e-04   9.99721300e-01]\n",
      " [  1.33213412e-03   9.98667866e-01]\n",
      " [  4.21764845e-11   1.00000000e+00]\n",
      " [  9.99864608e-01   1.35392186e-04]\n",
      " [  1.11828986e-02   9.88817101e-01]\n",
      " [  2.51900345e-01   7.48099655e-01]\n",
      " [  1.00000000e+00   4.31107979e-12]\n",
      " [  1.19491804e-04   9.99880508e-01]\n",
      " [  1.29674035e-02   9.87032596e-01]\n",
      " [  2.69619208e-02   9.73038079e-01]\n",
      " [  4.41334600e-05   9.99955867e-01]\n",
      " [  1.35160005e-01   8.64839995e-01]\n",
      " [  1.00000000e+00   2.83069485e-11]\n",
      " [  9.90694057e-01   9.30594298e-03]\n",
      " [  2.98747768e-02   9.70125223e-01]\n",
      " [  1.91092076e-01   8.08907924e-01]\n",
      " [  2.54372930e-05   9.99974563e-01]\n",
      " [  6.88011226e-01   3.11988774e-01]\n",
      " [  9.44800357e-03   9.90551996e-01]\n",
      " [  7.20414540e-08   9.99999928e-01]\n",
      " [  2.76777867e-09   9.99999997e-01]\n",
      " [  4.68812299e-02   9.53118770e-01]\n",
      " [  1.27389366e-09   9.99999999e-01]\n",
      " [  1.15146492e-01   8.84853508e-01]\n",
      " [  9.03387038e-01   9.66129624e-02]\n",
      " [  3.54407448e-06   9.99996456e-01]\n",
      " [  9.97769043e-01   2.23095720e-03]\n",
      " [  2.06631534e-06   9.99997934e-01]\n",
      " [  1.00000000e+00   9.69900928e-14]\n",
      " [  1.00000000e+00   2.14452059e-11]\n",
      " [  1.00000000e+00   1.69864648e-12]\n",
      " [  1.22029085e-07   9.99999878e-01]\n",
      " [  7.25962871e-05   9.99927404e-01]\n",
      " [  1.00000000e+00   2.88868776e-11]\n",
      " [  4.80991469e-10   1.00000000e+00]\n",
      " [  1.59785956e-02   9.84021404e-01]\n",
      " [  1.45097840e-02   9.85490216e-01]\n",
      " [  1.00000000e+00   2.12227497e-12]\n",
      " [  4.09666294e-07   9.99999590e-01]\n",
      " [  1.00000000e+00   1.99710610e-11]\n",
      " [  2.12644166e-01   7.87355834e-01]\n",
      " [  1.18855525e-06   9.99998811e-01]\n",
      " [  2.16164613e-08   9.99999978e-01]\n",
      " [  9.72349841e-01   2.76501594e-02]\n",
      " [  1.92099922e-07   9.99999808e-01]\n",
      " [  1.74025085e-04   9.99825975e-01]\n",
      " [  9.89296312e-01   1.07036884e-02]\n",
      " [  7.03453262e-06   9.99992965e-01]\n",
      " [  9.55090028e-01   4.49099723e-02]\n",
      " [  9.94399597e-01   5.60040290e-03]\n",
      " [  1.93365135e-03   9.98066349e-01]\n",
      " [  9.00566111e-01   9.94338892e-02]\n",
      " [  6.63738195e-05   9.99933626e-01]\n",
      " [  1.48153499e-02   9.85184650e-01]\n",
      " [  2.32158625e-02   9.76784138e-01]\n",
      " [  4.26561453e-10   1.00000000e+00]\n",
      " [  5.79115140e-06   9.99994209e-01]\n",
      " [  2.69354899e-04   9.99730645e-01]\n",
      " [  1.82097112e-01   8.17902888e-01]\n",
      " [  3.38072843e-08   9.99999966e-01]\n",
      " [  1.93027567e-05   9.99980697e-01]\n",
      " [  4.09888690e-02   9.59011131e-01]\n",
      " [  5.02960999e-04   9.99497039e-01]\n",
      " [  1.00000000e+00   1.63477084e-10]\n",
      " [  3.13647071e-02   9.68635293e-01]\n",
      " [  1.22096417e-01   8.77903583e-01]\n",
      " [  9.92241110e-01   7.75889022e-03]\n",
      " [  5.16895266e-05   9.99948310e-01]\n",
      " [  9.82736962e-03   9.90172630e-01]\n",
      " [  9.99962289e-01   3.77106406e-05]\n",
      " [  3.57491814e-13   1.00000000e+00]\n",
      " [  2.72592315e-01   7.27407685e-01]\n",
      " [  2.17915036e-06   9.99997821e-01]\n",
      " [  2.17055454e-01   7.82944546e-01]\n",
      " [  9.31323940e-09   9.99999991e-01]\n",
      " [  1.35210586e-02   9.86478941e-01]\n",
      " [  3.02547459e-07   9.99999697e-01]\n",
      " [  9.99509956e-01   4.90044388e-04]\n",
      " [  2.36565764e-02   9.76343424e-01]\n",
      " [  1.00000000e+00   1.14048863e-12]\n",
      " [  9.99998445e-01   1.55548362e-06]\n",
      " [  9.50641002e-02   9.04935900e-01]\n",
      " [  9.99999545e-01   4.55031472e-07]\n",
      " [  1.00000000e+00   2.48579068e-13]\n",
      " [  9.68019587e-01   3.19804129e-02]\n",
      " [  1.00000000e+00   2.67770338e-13]\n",
      " [  9.30523769e-01   6.94762315e-02]\n",
      " [  2.34235964e-10   1.00000000e+00]\n",
      " [  9.99833994e-01   1.66005760e-04]\n",
      " [  7.42818152e-02   9.25718185e-01]\n",
      " [  8.68837654e-01   1.31162346e-01]]\n"
     ]
    }
   ],
   "source": [
    "array = clf.predict_proba(X[:395])\n",
    "print(array)"
   ]
  },
  {
   "cell_type": "code",
   "execution_count": 29,
   "metadata": {
    "collapsed": false
   },
   "outputs": [
    {
     "name": "stdout",
     "output_type": "stream",
     "text": [
      "0.999992432182\n"
     ]
    }
   ],
   "source": [
    "print(array[0][0])"
   ]
  },
  {
   "cell_type": "code",
   "execution_count": 30,
   "metadata": {
    "collapsed": false
   },
   "outputs": [
    {
     "name": "stdout",
     "output_type": "stream",
     "text": [
      "7.5678176912e-06\n"
     ]
    }
   ],
   "source": [
    "print(array[0][1])"
   ]
  },
  {
   "cell_type": "code",
   "execution_count": 39,
   "metadata": {
    "collapsed": false
   },
   "outputs": [
    {
     "name": "stdout",
     "output_type": "stream",
     "text": [
      "0.987341772152\n"
     ]
    }
   ],
   "source": [
    "X = np.array(my_db.drop(['Passed'],1))\n",
    "Y = np.array(my_db['Passed'])\n",
    "\n",
    "#separate the data to create train set and test set\n",
    "X_train, X_test, Y_train, Y_test = cross_validation.train_test_split(X,Y,test_size = 0.2)\n",
    "clf = LogisticRegression()\n",
    "clf.fit(X_train,Y_train) \n",
    "accuracy = clf.score(X_test, Y_test)\n",
    "print(accuracy)"
   ]
  }
 ],
 "metadata": {
  "kernelspec": {
   "display_name": "Python [default]",
   "language": "python",
   "name": "python3"
  },
  "language_info": {
   "codemirror_mode": {
    "name": "ipython",
    "version": 3
   },
   "file_extension": ".py",
   "mimetype": "text/x-python",
   "name": "python",
   "nbconvert_exporter": "python",
   "pygments_lexer": "ipython3",
   "version": "3.5.2"
  }
 },
 "nbformat": 4,
 "nbformat_minor": 2
}
