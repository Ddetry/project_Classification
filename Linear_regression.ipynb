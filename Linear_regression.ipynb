{
 "cells": [
  {
   "cell_type": "code",
   "execution_count": 29,
   "metadata": {
    "collapsed": false
   },
   "outputs": [],
   "source": [
    "%matplotlib inline\n",
    "import pandas as pd\n",
    "import numpy as np \n",
    "import sklearn\n",
    "import matplotlib.pyplot as plt\n",
    "import scipy.stats as stats\n",
    "from sklearn.linear_model import LinearRegression \n",
    "from sklearn.linear_model import LogisticRegression \n",
    "\n",
    "path = '/Users/damien/Documents/Sinf/2eme_bis/2eme_quadri/QDA/project_Classification/Select2.csv'\n",
    "my_db = pd.read_csv(path, sep=';')\n"
   ]
  },
  {
   "cell_type": "code",
   "execution_count": 30,
   "metadata": {
    "collapsed": false
   },
   "outputs": [
    {
     "data": {
      "text/plain": [
       "Index(['school', 'sex', 'age', 'address', 'famsize', 'Pstatus', 'Medu', 'fedu',\n",
       "       'Mjob', 'fjob', 'reason', 'guardian', 'traveltime', 'studytime',\n",
       "       '0ures', 'schoolsup', 'famsup', 'paid', 'activities', 'nursery',\n",
       "       'higher', 'internet', 'romantic', 'famrel', 'freetime', 'goout', 'Dalc',\n",
       "       'Walc', 'health', 'absences', 'G1', 'G2', 'G3', 'Passed'],\n",
       "      dtype='object')"
      ]
     },
     "execution_count": 30,
     "metadata": {},
     "output_type": "execute_result"
    }
   ],
   "source": [
    "my_db.keys()"
   ]
  },
  {
   "cell_type": "code",
   "execution_count": 31,
   "metadata": {
    "collapsed": false
   },
   "outputs": [
    {
     "data": {
      "text/plain": [
       "LinearRegression(copy_X=True, fit_intercept=True, n_jobs=1, normalize=False)"
      ]
     },
     "execution_count": 31,
     "metadata": {},
     "output_type": "execute_result"
    }
   ],
   "source": [
    "X = my_db.drop('Passed', axis=1)\n",
    "lm = LinearRegression()\n",
    "lm\n"
   ]
  },
  {
   "cell_type": "code",
   "execution_count": 32,
   "metadata": {
    "collapsed": false
   },
   "outputs": [
    {
     "data": {
      "image/png": "[encoded data removed]",
      "text/plain": [
       "<matplotlib.figure.Figure at 0x1128227b8>"
      ]
     },
     "metadata": {},
     "output_type": "display_data"
    }
   ],
   "source": [
    "plt.scatter(my_db.age, my_db.Medu)\n",
    "plt.show()"
   ]
  },
  {
   "cell_type": "code",
   "execution_count": 33,
   "metadata": {
    "collapsed": false
   },
   "outputs": [
    {
     "name": "stdout",
     "output_type": "stream",
     "text": [
      "(264, 33)\n",
      "(264,)\n",
      "(131, 33)\n",
      "(131,)\n"
     ]
    }
   ],
   "source": [
    "from sklearn import cross_validation\n",
    "X_train, X_test, Y_train, Y_test = sklearn.cross_validation.train_test_split(X, my_db.Passed,test_size=0.33,random_state=5)\n",
    "print (X_train.shape)\n",
    "print (Y_train.shape)\n",
    "print (X_test.shape)\n",
    "print (Y_test.shape)"
   ]
  },
  {
   "cell_type": "code",
   "execution_count": 34,
   "metadata": {
    "collapsed": false
   },
   "outputs": [],
   "source": [
    "lm = LinearRegression()\n",
    "lm.fit(X_train, Y_train)\n",
    "pred_train = lm.predict(X_train)\n",
    "pred_test = lm.predict(X_test)"
   ]
  },
  {
   "cell_type": "code",
   "execution_count": 35,
   "metadata": {
    "collapsed": false
   },
   "outputs": [
    {
     "name": "stdout",
     "output_type": "stream",
     "text": [
      "[1 1 1 1 1 1 1 1 0 0 1 1 1 1 1 1 1 1 1 1 0 0 0 0 1 0 0 1 1 1 1 1 1 0 1 0 1\n",
      " 0 0 0 1 1 1 0 1 1 0 1 1 1 1 0 1 1 1 0 0 1 1 0 0 1 0 1 1 1 0 1 0 1 1 1 1 0\n",
      " 0 1 1 1 0]\n",
      "[1 1 1 1 1 1 1 0 0 0 1 1 1 1 1 1 1 1 1 1 0 0 0 0 1 0 0 1 1 1 1 1 1 0 1 0 1\n",
      " 0 1 0 1 1 1 0 1 1 0 1 1 1 1 0 1 1 1 0 0 1 1 0 0 1 0 1 1 1 0 1 0 0 1 1 1 0\n",
      " 0 1 1 1 0]\n"
     ]
    }
   ],
   "source": [
    "X = np.array(my_db.drop(['Passed'],1))\n",
    "Y = np.array(my_db['Passed'])\n",
    "X_train, X_test, Y_train, Y_test = cross_validation.train_test_split(X,Y,test_size = 0.2)\n",
    "clf = LogisticRegression()\n",
    "clf.fit(X_train,Y_train)\n",
    "prediction = clf.predict(X_test)\n",
    "print(prediction)\n",
    "print(Y_test)"
   ]
  },
  {
   "cell_type": "code",
   "execution_count": 38,
   "metadata": {
    "collapsed": false
   },
   "outputs": [
    {
     "name": "stdout",
     "output_type": "stream",
     "text": [
      "[[  9.99997316e-01   2.68369042e-06]\n",
      " [  9.99853819e-01   1.46181330e-04]\n",
      " [  1.23117150e-02   9.87688285e-01]\n",
      " [  1.84436512e-08   9.99999982e-01]\n",
      " [  4.32319406e-02   9.56768059e-01]\n",
      " [  3.46528278e-08   9.99999965e-01]\n",
      " [  2.95752051e-03   9.97042479e-01]\n",
      " [  9.99962446e-01   3.75535829e-05]\n",
      " [  5.55111512e-15   1.00000000e+00]\n",
      " [  1.78515497e-08   9.99999982e-01]\n",
      " [  2.48459612e-01   7.51540388e-01]\n",
      " [  1.21390589e-05   9.99987861e-01]\n",
      " [  7.01810301e-08   9.99999930e-01]\n",
      " [  4.27528346e-04   9.99572472e-01]\n",
      " [  1.10203180e-10   1.00000000e+00]\n",
      " [  5.26427314e-07   9.99999474e-01]\n",
      " [  1.13060979e-06   9.99998869e-01]\n",
      " [  7.12111682e-02   9.28788832e-01]\n",
      " [  9.99999639e-01   3.60564750e-07]\n",
      " [  2.28613991e-02   9.77138601e-01]\n",
      " [  6.59306498e-09   9.99999993e-01]\n",
      " [  5.98142669e-09   9.99999994e-01]\n",
      " [  1.92324734e-09   9.99999998e-01]\n",
      " [  5.45392128e-05   9.99945461e-01]\n",
      " [  9.49990943e-01   5.00090569e-02]\n",
      " [  9.00020131e-01   9.99798688e-02]\n",
      " [  6.88175966e-05   9.99931182e-01]\n",
      " [  5.39254197e-10   9.99999999e-01]\n",
      " [  6.11099775e-03   9.93889002e-01]\n",
      " [  5.84308271e-02   9.41569173e-01]\n",
      " [  4.48072204e-05   9.99955193e-01]\n",
      " [  4.56552574e-11   1.00000000e+00]\n",
      " [  1.36453449e-09   9.99999999e-01]\n",
      " [  9.83066418e-05   9.99901693e-01]\n",
      " [  1.04403498e-08   9.99999990e-01]\n",
      " [  9.99450970e-01   5.49029820e-04]\n",
      " [  1.04134479e-11   1.00000000e+00]\n",
      " [  2.72062216e-07   9.99999728e-01]\n",
      " [  3.54871672e-03   9.96451283e-01]\n",
      " [  5.39123987e-07   9.99999461e-01]\n",
      " [  1.27142309e-02   9.87285769e-01]\n",
      " [  1.05068291e-05   9.99989493e-01]\n",
      " [  3.76076947e-12   1.00000000e+00]\n",
      " [  2.82299393e-04   9.99717701e-01]\n",
      " [  6.45082718e-01   3.54917282e-01]\n",
      " [  9.99272206e-01   7.27793737e-04]\n",
      " [  1.45058829e-03   9.98549412e-01]\n",
      " [  3.33066907e-14   1.00000000e+00]\n",
      " [  5.54262920e-08   9.99999945e-01]\n",
      " [  9.98463607e-01   1.53639303e-03]\n",
      " [  1.99997763e-06   9.99998000e-01]\n",
      " [  2.70919176e-06   9.99997291e-01]\n",
      " [  4.99025155e-03   9.95009748e-01]\n",
      " [  2.31449695e-03   9.97685503e-01]\n",
      " [  5.59805719e-07   9.99999440e-01]\n",
      " [  2.36180001e-02   9.76382000e-01]\n",
      " [  2.74186207e-09   9.99999997e-01]\n",
      " [  3.41362683e-08   9.99999966e-01]\n",
      " [  1.56249335e-01   8.43750665e-01]\n",
      " [  1.49396739e-09   9.99999999e-01]\n",
      " [  4.65515523e-02   9.53448448e-01]\n",
      " [  1.72288678e-03   9.98277113e-01]\n",
      " [  5.17686035e-01   4.82313965e-01]\n",
      " [  7.53688452e-01   2.46311548e-01]\n",
      " [  1.90367297e-02   9.80963270e-01]\n",
      " [  1.46650203e-08   9.99999985e-01]\n",
      " [  2.34610340e-04   9.99765390e-01]\n",
      " [  9.99818541e-01   1.81458592e-04]\n",
      " [  2.56713634e-01   7.43286366e-01]\n",
      " [  9.70339364e-11   1.00000000e+00]\n",
      " [  9.99229000e-09   9.99999990e-01]\n",
      " [  5.61274195e-02   9.43872581e-01]\n",
      " [  9.99867926e-01   1.32073736e-04]\n",
      " [  4.04228360e-07   9.99999596e-01]\n",
      " [  1.30057123e-02   9.86994288e-01]\n",
      " [  3.06341543e-02   9.69365846e-01]\n",
      " [  2.49987931e-02   9.75001207e-01]\n",
      " [  6.21191710e-04   9.99378808e-01]\n",
      " [  2.03293734e-01   7.96706266e-01]\n",
      " [  9.99998967e-01   1.03275295e-06]\n",
      " [  4.99961514e-06   9.99995000e-01]\n",
      " [  3.01246707e-04   9.99698753e-01]\n",
      " [  9.99772164e-01   2.27835820e-04]\n",
      " [  1.14616361e-09   9.99999999e-01]\n",
      " [  2.59169379e-03   9.97408306e-01]\n",
      " [  9.46311058e-01   5.36889416e-02]\n",
      " [  9.99713459e-01   2.86541463e-04]\n",
      " [  6.09984383e-08   9.99999939e-01]\n",
      " [  2.05868970e-02   9.79413103e-01]\n",
      " [  9.96005564e-01   3.99443587e-03]\n",
      " [  9.51568020e-01   4.84319801e-02]\n",
      " [  8.53317417e-13   1.00000000e+00]\n",
      " [  9.99540532e-01   4.59468498e-04]\n",
      " [  2.28536769e-02   9.77146323e-01]\n",
      " [  1.37672194e-06   9.99998623e-01]\n",
      " [  9.12004807e-03   9.90879952e-01]\n",
      " [  3.81775770e-08   9.99999962e-01]\n",
      " [  7.82332570e-02   9.21766743e-01]\n",
      " [  4.77162199e-07   9.99999523e-01]\n",
      " [  9.74935900e-01   2.50640996e-02]\n",
      " [  9.99998650e-01   1.34972812e-06]\n",
      " [  6.11797502e-10   9.99999999e-01]\n",
      " [  4.83247728e-07   9.99999517e-01]\n",
      " [  9.99563892e-01   4.36107523e-04]\n",
      " [  7.04991621e-13   1.00000000e+00]\n",
      " [  1.81746737e-03   9.98182533e-01]\n",
      " [  7.65709620e-01   2.34290380e-01]\n",
      " [  8.20765678e-12   1.00000000e+00]\n",
      " [  4.70676122e-06   9.99995293e-01]\n",
      " [  2.44002761e-08   9.99999976e-01]\n",
      " [  1.90514271e-13   1.00000000e+00]\n",
      " [  7.92937117e-02   9.20706288e-01]\n",
      " [  2.28198903e-05   9.99977180e-01]\n",
      " [  8.77076189e-14   1.00000000e+00]\n",
      " [  3.24857198e-01   6.75142802e-01]\n",
      " [  6.09674378e-09   9.99999994e-01]\n",
      " [  6.30587472e-07   9.99999369e-01]\n",
      " [  6.48107906e-06   9.99993519e-01]\n",
      " [  9.51924378e-01   4.80756217e-02]\n",
      " [  1.92616115e-06   9.99998074e-01]\n",
      " [  7.67255148e-10   9.99999999e-01]\n",
      " [  1.11825892e-08   9.99999989e-01]\n",
      " [  7.00793741e-06   9.99992992e-01]\n",
      " [  2.74488393e-05   9.99972551e-01]\n",
      " [  9.68619615e-01   3.13803853e-02]\n",
      " [  1.31800160e-04   9.99868200e-01]\n",
      " [  1.79465294e-03   9.98205347e-01]\n",
      " [  9.63127915e-01   3.68720845e-02]\n",
      " [  1.00000000e+00   7.23555660e-13]\n",
      " [  6.76658729e-12   1.00000000e+00]\n",
      " [  1.00000000e+00   1.03913274e-11]\n",
      " [  1.00000000e+00   1.93453073e-10]\n",
      " [  4.79113589e-04   9.99520886e-01]\n",
      " [  3.01025795e-04   9.99698974e-01]\n",
      " [  1.00000000e+00   1.74408387e-11]\n",
      " [  1.00000000e+00   3.03629201e-12]\n",
      " [  1.00000000e+00   2.73061690e-12]\n",
      " [  1.00000000e+00   9.70342742e-12]\n",
      " [  5.74057322e-05   9.99942594e-01]\n",
      " [  1.54580384e-08   9.99999985e-01]\n",
      " [  1.00000000e+00   5.48840494e-11]\n",
      " [  6.06483743e-01   3.93516257e-01]\n",
      " [  5.11459072e-03   9.94885409e-01]\n",
      " [  2.50663986e-06   9.99997493e-01]\n",
      " [  1.00000000e+00   1.26009893e-12]\n",
      " [  2.11360740e-04   9.99788639e-01]\n",
      " [  1.00000000e+00   3.91526133e-11]\n",
      " [  2.79883415e-04   9.99720117e-01]\n",
      " [  1.00000000e+00   3.66967074e-12]\n",
      " [  2.35800163e-03   9.97641998e-01]\n",
      " [  1.00000000e+00   3.09145480e-12]\n",
      " [  6.21022744e-07   9.99999379e-01]\n",
      " [  7.50556062e-03   9.92494439e-01]\n",
      " [  1.00000000e+00   3.60323104e-14]\n",
      " [  1.50811651e-03   9.98491883e-01]\n",
      " [  8.70123422e-01   1.29876578e-01]\n",
      " [  1.46893715e-05   9.99985311e-01]\n",
      " [  5.26446247e-02   9.47355375e-01]\n",
      " [  6.83032741e-10   9.99999999e-01]\n",
      " [  9.00330612e-04   9.99099669e-01]\n",
      " [  1.00000000e+00   4.34394051e-12]\n",
      " [  9.80753807e-01   1.92461930e-02]\n",
      " [  1.00000000e+00   9.02403723e-12]\n",
      " [  6.03114322e-03   9.93968857e-01]\n",
      " [  9.94096422e-01   5.90357800e-03]\n",
      " [  1.39547121e-04   9.99860453e-01]\n",
      " [  9.23862812e-03   9.90761372e-01]\n",
      " [  6.64461153e-10   9.99999999e-01]\n",
      " [  1.00000000e+00   8.49614449e-11]\n",
      " [  9.60359337e-07   9.99999040e-01]\n",
      " [  1.00000000e+00   1.96893781e-11]\n",
      " [  2.93594260e-10   1.00000000e+00]\n",
      " [  1.89602391e-01   8.10397609e-01]\n",
      " [  1.00000000e+00   3.97883651e-12]\n",
      " [  7.20939073e-01   2.79060927e-01]\n",
      " [  9.28481901e-01   7.15180994e-02]\n",
      " [  3.05820337e-04   9.99694180e-01]\n",
      " [  9.99902920e-01   9.70796845e-05]\n",
      " [  5.06204621e-01   4.93795379e-01]\n",
      " [  2.88898355e-02   9.71110165e-01]\n",
      " [  9.77219781e-01   2.27802193e-02]\n",
      " [  8.93566436e-05   9.99910643e-01]\n",
      " [  2.83727042e-10   1.00000000e+00]\n",
      " [  9.97729097e-01   2.27090271e-03]\n",
      " [  5.31988801e-05   9.99946801e-01]\n",
      " [  2.42555889e-02   9.75744411e-01]\n",
      " [  7.72599274e-04   9.99227401e-01]\n",
      " [  8.63362215e-09   9.99999991e-01]\n",
      " [  5.77071590e-01   4.22928410e-01]\n",
      " [  1.43495294e-02   9.85650471e-01]\n",
      " [  2.07181400e-05   9.99979282e-01]\n",
      " [  8.23238427e-01   1.76761573e-01]\n",
      " [  9.56159435e-01   4.38405648e-02]\n",
      " [  1.03035296e-01   8.96964704e-01]\n",
      " [  9.81031733e-08   9.99999902e-01]\n",
      " [  3.82421954e-07   9.99999618e-01]\n",
      " [  4.57375027e-09   9.99999995e-01]\n",
      " [  1.44547957e-02   9.85545204e-01]\n",
      " [  2.02060590e-11   1.00000000e+00]\n",
      " [  1.53832740e-01   8.46167260e-01]\n",
      " [  3.40485196e-10   1.00000000e+00]\n",
      " [  5.22643909e-02   9.47735609e-01]\n",
      " [  1.82618953e-02   9.81738105e-01]\n",
      " [  9.99876388e-01   1.23611871e-04]\n",
      " [  7.20055942e-03   9.92799441e-01]\n",
      " [  9.78838536e-01   2.11614639e-02]\n",
      " [  9.97766499e-01   2.23350086e-03]\n",
      " [  4.23002743e-05   9.99957700e-01]\n",
      " [  2.21229224e-03   9.97787708e-01]\n",
      " [  9.99845784e-01   1.54216233e-04]\n",
      " [  9.99324590e-01   6.75409980e-04]\n",
      " [  7.20885184e-05   9.99927911e-01]\n",
      " [  2.01530989e-07   9.99999798e-01]\n",
      " [  9.98486866e-01   1.51313405e-03]\n",
      " [  8.36915903e-02   9.16308410e-01]\n",
      " [  1.52608250e-08   9.99999985e-01]\n",
      " [  9.99999951e-01   4.92783415e-08]\n",
      " [  9.97700649e-01   2.29935100e-03]\n",
      " [  8.62322553e-01   1.37677447e-01]\n",
      " [  3.20108597e-01   6.79891403e-01]\n",
      " [  9.99955783e-01   4.42167560e-05]\n",
      " [  1.00000000e+00   9.71096971e-13]\n",
      " [  1.18294263e-10   1.00000000e+00]\n",
      " [  5.08384152e-05   9.99949162e-01]\n",
      " [  2.21999636e-06   9.99997780e-01]\n",
      " [  9.99913526e-01   8.64740405e-05]\n",
      " [  2.92676137e-08   9.99999971e-01]\n",
      " [  4.49596707e-05   9.99955040e-01]\n",
      " [  7.59109098e-01   2.40890902e-01]\n",
      " [  3.64122507e-04   9.99635877e-01]\n",
      " [  4.58971899e-06   9.99995410e-01]\n",
      " [  4.85988294e-03   9.95140117e-01]\n",
      " [  9.61017064e-01   3.89829360e-02]\n",
      " [  1.63652495e-06   9.99998363e-01]\n",
      " [  9.99719619e-01   2.80380909e-04]\n",
      " [  3.18974886e-02   9.68102511e-01]\n",
      " [  1.44572747e-05   9.99985543e-01]\n",
      " [  2.42922468e-04   9.99757078e-01]\n",
      " [  3.22945648e-03   9.96770544e-01]\n",
      " [  1.00000000e+00   8.71127490e-12]\n",
      " [  3.92590219e-03   9.96074098e-01]\n",
      " [  4.40737303e-04   9.99559263e-01]\n",
      " [  1.00000000e+00   2.14581164e-12]\n",
      " [  2.32507252e-04   9.99767493e-01]\n",
      " [  1.00000000e+00   2.06592450e-12]\n",
      " [  5.64881475e-13   1.00000000e+00]\n",
      " [  5.38807897e-06   9.99994612e-01]\n",
      " [  9.99980652e-01   1.93481976e-05]\n",
      " [  9.99999849e-01   1.50754008e-07]\n",
      " [  7.66475772e-10   9.99999999e-01]\n",
      " [  9.92346293e-01   7.65370737e-03]\n",
      " [  2.90427774e-03   9.97095722e-01]\n",
      " [  9.46466385e-01   5.35336146e-02]\n",
      " [  6.00450224e-01   3.99549776e-01]\n",
      " [  9.84319736e-05   9.99901568e-01]\n",
      " [  9.82789268e-01   1.72107319e-02]\n",
      " [  1.09756240e-04   9.99890244e-01]\n",
      " [  6.52595776e-02   9.34740422e-01]\n",
      " [  2.25396750e-06   9.99997746e-01]\n",
      " [  1.00000000e+00   4.40507384e-12]\n",
      " [  9.37605549e-12   1.00000000e+00]\n",
      " [  9.93815651e-01   6.18434887e-03]\n",
      " [  1.84340376e-03   9.98156596e-01]\n",
      " [  9.28664252e-01   7.13357475e-02]\n",
      " [  1.00000000e+00   1.52015637e-12]\n",
      " [  2.95206304e-10   1.00000000e+00]\n",
      " [  1.70146979e-01   8.29853021e-01]\n",
      " [  1.37025123e-01   8.62974877e-01]\n",
      " [  4.31717694e-01   5.68282306e-01]\n",
      " [  1.00000000e+00   1.86462578e-12]\n",
      " [  9.96745349e-01   3.25465104e-03]\n",
      " [  1.00238438e-05   9.99989976e-01]\n",
      " [  7.41434041e-03   9.92585660e-01]\n",
      " [  6.42780861e-07   9.99999357e-01]\n",
      " [  1.59399296e-01   8.40600704e-01]\n",
      " [  4.34199588e-04   9.99565800e-01]\n",
      " [  9.37649888e-01   6.23501123e-02]\n",
      " [  9.08563694e-01   9.14363063e-02]\n",
      " [  9.99899591e-01   1.00409196e-04]\n",
      " [  2.24791213e-01   7.75208787e-01]\n",
      " [  9.84038572e-01   1.59614279e-02]\n",
      " [  1.34282104e-01   8.65717896e-01]\n",
      " [  8.03819399e-04   9.99196181e-01]\n",
      " [  5.63981019e-01   4.36018981e-01]\n",
      " [  1.31700017e-02   9.86829998e-01]\n",
      " [  6.15142956e-04   9.99384857e-01]\n",
      " [  6.99218461e-13   1.00000000e+00]\n",
      " [  2.93033303e-04   9.99706967e-01]\n",
      " [  1.01081649e-06   9.99998989e-01]\n",
      " [  8.18913110e-07   9.99999181e-01]\n",
      " [  1.31597864e-02   9.86840214e-01]\n",
      " [  3.77897710e-08   9.99999962e-01]\n",
      " [  2.70549904e-04   9.99729450e-01]\n",
      " [  3.96638278e-12   1.00000000e+00]\n",
      " [  9.56477840e-06   9.99990435e-01]\n",
      " [  1.88728501e-03   9.98112715e-01]\n",
      " [  1.00000000e+00   1.06017292e-12]\n",
      " [  9.93480341e-01   6.51965920e-03]\n",
      " [  1.01263948e-05   9.99989874e-01]\n",
      " [  6.36576281e-08   9.99999936e-01]\n",
      " [  1.07652737e-01   8.92347263e-01]\n",
      " [  6.26877038e-02   9.37312296e-01]\n",
      " [  1.26103637e-06   9.99998739e-01]\n",
      " [  4.82480722e-12   1.00000000e+00]\n",
      " [  1.29173290e-03   9.98708267e-01]\n",
      " [  2.25361095e-03   9.97746389e-01]\n",
      " [  2.38834730e-10   1.00000000e+00]\n",
      " [  9.99599352e-01   4.00648102e-04]\n",
      " [  2.09015475e-02   9.79098453e-01]\n",
      " [  3.16089691e-01   6.83910309e-01]\n",
      " [  1.00000000e+00   1.33772717e-12]\n",
      " [  4.90045753e-05   9.99950995e-01]\n",
      " [  5.28529334e-02   9.47147067e-01]\n",
      " [  1.06913593e-02   9.89308641e-01]\n",
      " [  9.32712104e-05   9.99906729e-01]\n",
      " [  1.84853567e-01   8.15146433e-01]\n",
      " [  1.00000000e+00   1.55982613e-11]\n",
      " [  9.93425031e-01   6.57496922e-03]\n",
      " [  8.31874407e-02   9.16812559e-01]\n",
      " [  1.51225327e-01   8.48774673e-01]\n",
      " [  1.61278218e-05   9.99983872e-01]\n",
      " [  7.29149393e-01   2.70850607e-01]\n",
      " [  2.36919222e-02   9.76308078e-01]\n",
      " [  8.99873135e-08   9.99999910e-01]\n",
      " [  1.34178673e-08   9.99999987e-01]\n",
      " [  3.06133815e-01   6.93866185e-01]\n",
      " [  4.15023749e-09   9.99999996e-01]\n",
      " [  8.02027906e-02   9.19797209e-01]\n",
      " [  9.26491724e-01   7.35082764e-02]\n",
      " [  2.21549730e-06   9.99997785e-01]\n",
      " [  9.99355290e-01   6.44710494e-04]\n",
      " [  1.21390970e-05   9.99987861e-01]\n",
      " [  1.00000000e+00   1.02360303e-13]\n",
      " [  1.00000000e+00   4.28245918e-12]\n",
      " [  1.00000000e+00   4.75023888e-13]\n",
      " [  4.01634461e-07   9.99999598e-01]\n",
      " [  5.38917579e-05   9.99946108e-01]\n",
      " [  1.00000000e+00   2.33451662e-11]\n",
      " [  3.44836870e-09   9.99999997e-01]\n",
      " [  3.11287116e-02   9.68871288e-01]\n",
      " [  3.67619908e-02   9.63238009e-01]\n",
      " [  1.00000000e+00   1.15684886e-12]\n",
      " [  8.23437928e-07   9.99999177e-01]\n",
      " [  1.00000000e+00   4.53211956e-11]\n",
      " [  4.86010598e-01   5.13989402e-01]\n",
      " [  6.81649744e-06   9.99993184e-01]\n",
      " [  3.23180590e-08   9.99999968e-01]\n",
      " [  9.63473420e-01   3.65265798e-02]\n",
      " [  1.61888919e-07   9.99999838e-01]\n",
      " [  3.01009797e-04   9.99698990e-01]\n",
      " [  9.96152207e-01   3.84779310e-03]\n",
      " [  1.38503235e-05   9.99986150e-01]\n",
      " [  9.92684205e-01   7.31579510e-03]\n",
      " [  9.92411062e-01   7.58893840e-03]\n",
      " [  3.86080169e-03   9.96139198e-01]\n",
      " [  9.42744983e-01   5.72550169e-02]\n",
      " [  2.36400055e-05   9.99976360e-01]\n",
      " [  2.95054439e-03   9.97049456e-01]\n",
      " [  3.79248793e-02   9.62075121e-01]\n",
      " [  2.25064301e-09   9.99999998e-01]\n",
      " [  1.14953909e-05   9.99988505e-01]\n",
      " [  2.94393868e-04   9.99705606e-01]\n",
      " [  1.00990594e-01   8.99009406e-01]\n",
      " [  2.57164396e-07   9.99999743e-01]\n",
      " [  3.81752896e-05   9.99961825e-01]\n",
      " [  1.05061136e-01   8.94938864e-01]\n",
      " [  1.28625157e-04   9.99871375e-01]\n",
      " [  1.00000000e+00   3.71912234e-10]\n",
      " [  5.16640917e-02   9.48335908e-01]\n",
      " [  3.48560908e-02   9.65143909e-01]\n",
      " [  9.90683913e-01   9.31608737e-03]\n",
      " [  5.61118584e-05   9.99943888e-01]\n",
      " [  2.97711931e-02   9.70228807e-01]\n",
      " [  9.99997589e-01   2.41075519e-06]\n",
      " [  4.26991775e-12   1.00000000e+00]\n",
      " [  1.29595861e-01   8.70404139e-01]\n",
      " [  1.52417386e-06   9.99998476e-01]\n",
      " [  6.76136777e-01   3.23863223e-01]\n",
      " [  3.79881234e-08   9.99999962e-01]\n",
      " [  8.20632676e-02   9.17936732e-01]\n",
      " [  8.40364732e-07   9.99999160e-01]\n",
      " [  9.98886703e-01   1.11329727e-03]\n",
      " [  1.38466311e-01   8.61533689e-01]\n",
      " [  1.00000000e+00   3.97023549e-12]\n",
      " [  9.99999063e-01   9.37388708e-07]\n",
      " [  8.47575147e-02   9.15242485e-01]\n",
      " [  9.99995529e-01   4.47088083e-06]\n",
      " [  1.00000000e+00   1.70788203e-13]\n",
      " [  9.88602456e-01   1.13975440e-02]\n",
      " [  1.00000000e+00   1.26694569e-12]\n",
      " [  9.78762997e-01   2.12370031e-02]\n",
      " [  1.26835431e-09   9.99999999e-01]\n",
      " [  9.99962572e-01   3.74281589e-05]\n",
      " [  4.82926665e-02   9.51707334e-01]\n",
      " [  9.27563629e-01   7.24363708e-02]]\n"
     ]
    }
   ],
   "source": [
    "array = clf.predict_proba(X[:395])\n",
    "print(array)"
   ]
  },
  {
   "cell_type": "code",
   "execution_count": 39,
   "metadata": {
    "collapsed": false
   },
   "outputs": [
    {
     "name": "stdout",
     "output_type": "stream",
     "text": [
      "0.99999731631\n"
     ]
    }
   ],
   "source": [
    "print(array[0][0])"
   ]
  },
  {
   "cell_type": "code",
   "execution_count": 40,
   "metadata": {
    "collapsed": false
   },
   "outputs": [
    {
     "name": "stdout",
     "output_type": "stream",
     "text": [
      "2.68369041783e-06\n"
     ]
    }
   ],
   "source": [
    "print(array[0][1])"
   ]
  },
  {
   "cell_type": "code",
   "execution_count": null,
   "metadata": {
    "collapsed": false
   },
   "outputs": [],
   "source": [
    "import xlrd\n",
    " \n",
    "from xlwt import Workbook, Formula\n",
    "path = path = '/Users/damien/Documents/Sinf/2eme_bis/2eme_quadri/QDA/project_Classification'\n",
    "classeur = Workbook()\n",
    "feuille = classeur.add_sheet(\"try\", cell_overwrite_ok=True)\n",
    " \n",
    "i = 0\n",
    "while i < 395:\n",
    "    feuille.write(i, 3, array[i][0])\n",
    "    feuille.write(i, 4, array[i][1])\n",
    "\n",
    "classeur.save(path)"
   ]
  },
  {
   "cell_type": "code",
   "execution_count": null,
   "metadata": {
    "collapsed": true
   },
   "outputs": [],
   "source": []
  }
 ],
 "metadata": {
  "kernelspec": {
   "display_name": "Python [default]",
   "language": "python",
   "name": "python3"
  },
  "language_info": {
   "codemirror_mode": {
    "name": "ipython",
    "version": 3
   },
   "file_extension": ".py",
   "mimetype": "text/x-python",
   "name": "python",
   "nbconvert_exporter": "python",
   "pygments_lexer": "ipython3",
   "version": "3.5.2"
  }
 },
 "nbformat": 4,
 "nbformat_minor": 2
}
